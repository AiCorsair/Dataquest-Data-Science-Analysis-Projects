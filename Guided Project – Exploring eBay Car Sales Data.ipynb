{
 "cells": [
  {
   "cell_type": "markdown",
   "metadata": {
    "collapsed": true
   },
   "source": [
    "# eBay Kleinanzeigen – Exploring Used Car Sales Data"
   ]
  },
  {
   "cell_type": "markdown",
   "metadata": {},
   "source": [
    "## 1. Introduction"
   ]
  },
  {
   "cell_type": "markdown",
   "metadata": {},
   "source": [
    "In this project, we'll work with a dataset of used cars from **eBay Kleinanzeigen**, a [classifieds](https://en.wikipedia.org/wiki/Classified_advertising) section of the German eBay website. The dataset was originally scraped and uploaded to [Kaggle](https://www.kaggle.com/). Since the original dataset isn't available on Kaggle anymore, we can find it [here](https://data.world/data-society/used-cars-data) instead.\n",
    "\n",
    "[Dataquest](https://www.dataquest.io/) has made a few modifications from the original dataset:\n",
    "- They sampled `50,000` data points from the full dataset, to ensure code runs quickly in our hosted environment.\n",
    "- They dirtied the dataset a bit to more closely resemble what we would expect from a scraped dataset. Note the version uploaded to Kaggle was cleaned to be easier to work with.\n",
    "\n",
    "The data dictionary provided with data is as follows:\n",
    "\n",
    "- `dateCrawled` – the date of ad crawling.\n",
    "- `name` – the name of the vehicle.\n",
    "- `seller` – whether the seller is private or a dealer.\n",
    "- `offerType` – the type of the listing.\n",
    "- `price` – the price of the vehicle.\n",
    "- `abtest` – whether the listing is included in an A/B test.\n",
    "- `vehicleType` – the vehicle type.\n",
    "- `yearOfRegistration` – the vehicle's registration year.\n",
    "- `gearbox` – the transmission type.\n",
    "- `powerPS` – the vehicle power in PS.\n",
    "- `model` – the vehicle's model name.\n",
    "- `odometer` – the kilometers the vehicle traveled.\n",
    "- `monthOfRegistration` – the vehicle's registration month.\n",
    "- `fuelType` – the vehicle's fuel type.\n",
    "- `brand` – the brand of the vehicle.\n",
    "- `notRepairedDamage` – whether the car has unrepaired damage.\n",
    "- `dateCreated` – the listing's creation date.\n",
    "- `nrOfPictures` – the number of pictures in the ad.\n",
    "- `postalCode` – the vehicle's location postal code.\n",
    "- `lastSeenOnline` – the date when the crawler last saw the ad."
   ]
  },
  {
   "cell_type": "markdown",
   "metadata": {},
   "source": [
    "## 2. Opening and Exploring the Data"
   ]
  },
  {
   "cell_type": "markdown",
   "metadata": {},
   "source": [
    "The aim of this project is to clean the data and analyze the included used car listings. So let's start by importing the libraries we need, and reading the dataset into pandas."
   ]
  },
  {
   "cell_type": "code",
   "execution_count": 1,
   "metadata": {},
   "outputs": [
    {
     "data": {
      "text/html": [
       "<div>\n",
       "<style scoped>\n",
       "    .dataframe tbody tr th:only-of-type {\n",
       "        vertical-align: middle;\n",
       "    }\n",
       "\n",
       "    .dataframe tbody tr th {\n",
       "        vertical-align: top;\n",
       "    }\n",
       "\n",
       "    .dataframe thead th {\n",
       "        text-align: right;\n",
       "    }\n",
       "</style>\n",
       "<table border=\"1\" class=\"dataframe\">\n",
       "  <thead>\n",
       "    <tr style=\"text-align: right;\">\n",
       "      <th></th>\n",
       "      <th>dateCrawled</th>\n",
       "      <th>name</th>\n",
       "      <th>seller</th>\n",
       "      <th>offerType</th>\n",
       "      <th>price</th>\n",
       "      <th>abtest</th>\n",
       "      <th>vehicleType</th>\n",
       "      <th>yearOfRegistration</th>\n",
       "      <th>gearbox</th>\n",
       "      <th>powerPS</th>\n",
       "      <th>model</th>\n",
       "      <th>odometer</th>\n",
       "      <th>monthOfRegistration</th>\n",
       "      <th>fuelType</th>\n",
       "      <th>brand</th>\n",
       "      <th>notRepairedDamage</th>\n",
       "      <th>dateCreated</th>\n",
       "      <th>nrOfPictures</th>\n",
       "      <th>postalCode</th>\n",
       "      <th>lastSeen</th>\n",
       "    </tr>\n",
       "  </thead>\n",
       "  <tbody>\n",
       "    <tr>\n",
       "      <th>0</th>\n",
       "      <td>2016-03-26 17:47:46</td>\n",
       "      <td>Peugeot_807_160_NAVTECH_ON_BOARD</td>\n",
       "      <td>privat</td>\n",
       "      <td>Angebot</td>\n",
       "      <td>$5,000</td>\n",
       "      <td>control</td>\n",
       "      <td>bus</td>\n",
       "      <td>2004</td>\n",
       "      <td>manuell</td>\n",
       "      <td>158</td>\n",
       "      <td>andere</td>\n",
       "      <td>150,000km</td>\n",
       "      <td>3</td>\n",
       "      <td>lpg</td>\n",
       "      <td>peugeot</td>\n",
       "      <td>nein</td>\n",
       "      <td>2016-03-26 00:00:00</td>\n",
       "      <td>0</td>\n",
       "      <td>79588</td>\n",
       "      <td>2016-04-06 06:45:54</td>\n",
       "    </tr>\n",
       "    <tr>\n",
       "      <th>1</th>\n",
       "      <td>2016-04-04 13:38:56</td>\n",
       "      <td>BMW_740i_4_4_Liter_HAMANN_UMBAU_Mega_Optik</td>\n",
       "      <td>privat</td>\n",
       "      <td>Angebot</td>\n",
       "      <td>$8,500</td>\n",
       "      <td>control</td>\n",
       "      <td>limousine</td>\n",
       "      <td>1997</td>\n",
       "      <td>automatik</td>\n",
       "      <td>286</td>\n",
       "      <td>7er</td>\n",
       "      <td>150,000km</td>\n",
       "      <td>6</td>\n",
       "      <td>benzin</td>\n",
       "      <td>bmw</td>\n",
       "      <td>nein</td>\n",
       "      <td>2016-04-04 00:00:00</td>\n",
       "      <td>0</td>\n",
       "      <td>71034</td>\n",
       "      <td>2016-04-06 14:45:08</td>\n",
       "    </tr>\n",
       "    <tr>\n",
       "      <th>2</th>\n",
       "      <td>2016-03-26 18:57:24</td>\n",
       "      <td>Volkswagen_Golf_1.6_United</td>\n",
       "      <td>privat</td>\n",
       "      <td>Angebot</td>\n",
       "      <td>$8,990</td>\n",
       "      <td>test</td>\n",
       "      <td>limousine</td>\n",
       "      <td>2009</td>\n",
       "      <td>manuell</td>\n",
       "      <td>102</td>\n",
       "      <td>golf</td>\n",
       "      <td>70,000km</td>\n",
       "      <td>7</td>\n",
       "      <td>benzin</td>\n",
       "      <td>volkswagen</td>\n",
       "      <td>nein</td>\n",
       "      <td>2016-03-26 00:00:00</td>\n",
       "      <td>0</td>\n",
       "      <td>35394</td>\n",
       "      <td>2016-04-06 20:15:37</td>\n",
       "    </tr>\n",
       "    <tr>\n",
       "      <th>3</th>\n",
       "      <td>2016-03-12 16:58:10</td>\n",
       "      <td>Smart_smart_fortwo_coupe_softouch/F1/Klima/Pan...</td>\n",
       "      <td>privat</td>\n",
       "      <td>Angebot</td>\n",
       "      <td>$4,350</td>\n",
       "      <td>control</td>\n",
       "      <td>kleinwagen</td>\n",
       "      <td>2007</td>\n",
       "      <td>automatik</td>\n",
       "      <td>71</td>\n",
       "      <td>fortwo</td>\n",
       "      <td>70,000km</td>\n",
       "      <td>6</td>\n",
       "      <td>benzin</td>\n",
       "      <td>smart</td>\n",
       "      <td>nein</td>\n",
       "      <td>2016-03-12 00:00:00</td>\n",
       "      <td>0</td>\n",
       "      <td>33729</td>\n",
       "      <td>2016-03-15 03:16:28</td>\n",
       "    </tr>\n",
       "    <tr>\n",
       "      <th>4</th>\n",
       "      <td>2016-04-01 14:38:50</td>\n",
       "      <td>Ford_Focus_1_6_Benzin_TÜV_neu_ist_sehr_gepfleg...</td>\n",
       "      <td>privat</td>\n",
       "      <td>Angebot</td>\n",
       "      <td>$1,350</td>\n",
       "      <td>test</td>\n",
       "      <td>kombi</td>\n",
       "      <td>2003</td>\n",
       "      <td>manuell</td>\n",
       "      <td>0</td>\n",
       "      <td>focus</td>\n",
       "      <td>150,000km</td>\n",
       "      <td>7</td>\n",
       "      <td>benzin</td>\n",
       "      <td>ford</td>\n",
       "      <td>nein</td>\n",
       "      <td>2016-04-01 00:00:00</td>\n",
       "      <td>0</td>\n",
       "      <td>39218</td>\n",
       "      <td>2016-04-01 14:38:50</td>\n",
       "    </tr>\n",
       "  </tbody>\n",
       "</table>\n",
       "</div>"
      ],
      "text/plain": [
       "           dateCrawled                                               name  \\\n",
       "0  2016-03-26 17:47:46                   Peugeot_807_160_NAVTECH_ON_BOARD   \n",
       "1  2016-04-04 13:38:56         BMW_740i_4_4_Liter_HAMANN_UMBAU_Mega_Optik   \n",
       "2  2016-03-26 18:57:24                         Volkswagen_Golf_1.6_United   \n",
       "3  2016-03-12 16:58:10  Smart_smart_fortwo_coupe_softouch/F1/Klima/Pan...   \n",
       "4  2016-04-01 14:38:50  Ford_Focus_1_6_Benzin_TÜV_neu_ist_sehr_gepfleg...   \n",
       "\n",
       "   seller offerType   price   abtest vehicleType  yearOfRegistration  \\\n",
       "0  privat   Angebot  $5,000  control         bus                2004   \n",
       "1  privat   Angebot  $8,500  control   limousine                1997   \n",
       "2  privat   Angebot  $8,990     test   limousine                2009   \n",
       "3  privat   Angebot  $4,350  control  kleinwagen                2007   \n",
       "4  privat   Angebot  $1,350     test       kombi                2003   \n",
       "\n",
       "     gearbox  powerPS   model   odometer  monthOfRegistration fuelType  \\\n",
       "0    manuell      158  andere  150,000km                    3      lpg   \n",
       "1  automatik      286     7er  150,000km                    6   benzin   \n",
       "2    manuell      102    golf   70,000km                    7   benzin   \n",
       "3  automatik       71  fortwo   70,000km                    6   benzin   \n",
       "4    manuell        0   focus  150,000km                    7   benzin   \n",
       "\n",
       "        brand notRepairedDamage          dateCreated  nrOfPictures  \\\n",
       "0     peugeot              nein  2016-03-26 00:00:00             0   \n",
       "1         bmw              nein  2016-04-04 00:00:00             0   \n",
       "2  volkswagen              nein  2016-03-26 00:00:00             0   \n",
       "3       smart              nein  2016-03-12 00:00:00             0   \n",
       "4        ford              nein  2016-04-01 00:00:00             0   \n",
       "\n",
       "   postalCode             lastSeen  \n",
       "0       79588  2016-04-06 06:45:54  \n",
       "1       71034  2016-04-06 14:45:08  \n",
       "2       35394  2016-04-06 20:15:37  \n",
       "3       33729  2016-03-15 03:16:28  \n",
       "4       39218  2016-04-01 14:38:50  "
      ]
     },
     "execution_count": 1,
     "metadata": {},
     "output_type": "execute_result"
    }
   ],
   "source": [
    "# Import the relevant libraries\n",
    "import matplotlib.pyplot as plt\n",
    "import pandas as pd\n",
    "import numpy as np\n",
    "\n",
    "# Set the display format for float values\n",
    "pd.options.display.float_format = '{:.4f}'.format\n",
    "\n",
    "# Read the dataset into a pandas DataFrame, and display the first few rows\n",
    "autos = pd.read_csv('Datasets/autos.csv', encoding='Latin-1')\n",
    "autos.head()"
   ]
  },
  {
   "cell_type": "code",
   "execution_count": 2,
   "metadata": {
    "scrolled": true
   },
   "outputs": [
    {
     "name": "stdout",
     "output_type": "stream",
     "text": [
      "<class 'pandas.core.frame.DataFrame'>\n",
      "RangeIndex: 50000 entries, 0 to 49999\n",
      "Data columns (total 20 columns):\n",
      " #   Column               Non-Null Count  Dtype \n",
      "---  ------               --------------  ----- \n",
      " 0   dateCrawled          50000 non-null  object\n",
      " 1   name                 50000 non-null  object\n",
      " 2   seller               50000 non-null  object\n",
      " 3   offerType            50000 non-null  object\n",
      " 4   price                50000 non-null  object\n",
      " 5   abtest               50000 non-null  object\n",
      " 6   vehicleType          44905 non-null  object\n",
      " 7   yearOfRegistration   50000 non-null  int64 \n",
      " 8   gearbox              47320 non-null  object\n",
      " 9   powerPS              50000 non-null  int64 \n",
      " 10  model                47242 non-null  object\n",
      " 11  odometer             50000 non-null  object\n",
      " 12  monthOfRegistration  50000 non-null  int64 \n",
      " 13  fuelType             45518 non-null  object\n",
      " 14  brand                50000 non-null  object\n",
      " 15  notRepairedDamage    40171 non-null  object\n",
      " 16  dateCreated          50000 non-null  object\n",
      " 17  nrOfPictures         50000 non-null  int64 \n",
      " 18  postalCode           50000 non-null  int64 \n",
      " 19  lastSeen             50000 non-null  object\n",
      "dtypes: int64(5), object(15)\n",
      "memory usage: 7.6+ MB\n"
     ]
    }
   ],
   "source": [
    "# Display concise summary information\n",
    "autos.info()"
   ]
  },
  {
   "cell_type": "markdown",
   "metadata": {},
   "source": [
    "From the output above, we observe that:\n",
    "\n",
    "* The dataset contains `20` columns, most of which are strings.\n",
    "* There are a few columns with null values, but no columns have more than `~20%` null values.\n",
    "* The column names use [camelcase](https://en.wikipedia.org/wiki/Camel_case) instead of Python's preferred [snakecase](https://en.wikipedia.org/wiki/Snake_case), which means we can't just replace spaces with underscores."
   ]
  },
  {
   "cell_type": "markdown",
   "metadata": {},
   "source": [
    "## 3. Cleaning Column Names"
   ]
  },
  {
   "cell_type": "markdown",
   "metadata": {},
   "source": [
    "Let's convert the column names from **camelcase** to **snakecase**, and reword some of the column names to be more descriptive."
   ]
  },
  {
   "cell_type": "code",
   "execution_count": 3,
   "metadata": {},
   "outputs": [
    {
     "data": {
      "text/plain": [
       "Index(['dateCrawled', 'name', 'seller', 'offerType', 'price', 'abtest',\n",
       "       'vehicleType', 'yearOfRegistration', 'gearbox', 'powerPS', 'model',\n",
       "       'odometer', 'monthOfRegistration', 'fuelType', 'brand',\n",
       "       'notRepairedDamage', 'dateCreated', 'nrOfPictures', 'postalCode',\n",
       "       'lastSeen'],\n",
       "      dtype='object')"
      ]
     },
     "execution_count": 3,
     "metadata": {},
     "output_type": "execute_result"
    }
   ],
   "source": [
    "# Display the column names before renaming\n",
    "autos.columns"
   ]
  },
  {
   "cell_type": "code",
   "execution_count": 4,
   "metadata": {},
   "outputs": [
    {
     "data": {
      "text/plain": [
       "Index(['date_crawled', 'name', 'seller', 'offer_type', 'price', 'ab_test',\n",
       "       'vehicle_type', 'registration_year', 'gearbox', 'power_ps', 'model',\n",
       "       'odometer', 'registration_month', 'fuel_type', 'brand',\n",
       "       'unrepaired_damage', 'date_created', 'pictures_number', 'postal_code',\n",
       "       'last_seen'],\n",
       "      dtype='object')"
      ]
     },
     "execution_count": 4,
     "metadata": {},
     "output_type": "execute_result"
    }
   ],
   "source": [
    "# Rename columns to 'snake_case' for easier access and readability\n",
    "autos.columns = ['date_crawled', 'name', 'seller', 'offer_type', 'price', 'ab_test',\n",
    "                 'vehicle_type', 'registration_year', 'gearbox', 'power_ps', 'model',\n",
    "                 'odometer', 'registration_month', 'fuel_type', 'brand',\n",
    "                 'unrepaired_damage', 'date_created', 'pictures_number', 'postal_code',\n",
    "                 'last_seen']\n",
    "\n",
    "# Display the column names after renaming\n",
    "autos.columns"
   ]
  },
  {
   "cell_type": "markdown",
   "metadata": {},
   "source": [
    "## 4. Further Exploration and Cleaning"
   ]
  },
  {
   "cell_type": "markdown",
   "metadata": {},
   "source": [
    "### 4.1. Part One"
   ]
  },
  {
   "cell_type": "markdown",
   "metadata": {},
   "source": [
    "Now, let's perform some basic data exploration before determining what other cleaning tasks we need to do."
   ]
  },
  {
   "cell_type": "code",
   "execution_count": 5,
   "metadata": {
    "scrolled": false
   },
   "outputs": [
    {
     "data": {
      "text/html": [
       "<div>\n",
       "<style scoped>\n",
       "    .dataframe tbody tr th:only-of-type {\n",
       "        vertical-align: middle;\n",
       "    }\n",
       "\n",
       "    .dataframe tbody tr th {\n",
       "        vertical-align: top;\n",
       "    }\n",
       "\n",
       "    .dataframe thead th {\n",
       "        text-align: right;\n",
       "    }\n",
       "</style>\n",
       "<table border=\"1\" class=\"dataframe\">\n",
       "  <thead>\n",
       "    <tr style=\"text-align: right;\">\n",
       "      <th></th>\n",
       "      <th>date_crawled</th>\n",
       "      <th>name</th>\n",
       "      <th>seller</th>\n",
       "      <th>offer_type</th>\n",
       "      <th>price</th>\n",
       "      <th>ab_test</th>\n",
       "      <th>vehicle_type</th>\n",
       "      <th>registration_year</th>\n",
       "      <th>gearbox</th>\n",
       "      <th>power_ps</th>\n",
       "      <th>model</th>\n",
       "      <th>odometer</th>\n",
       "      <th>registration_month</th>\n",
       "      <th>fuel_type</th>\n",
       "      <th>brand</th>\n",
       "      <th>unrepaired_damage</th>\n",
       "      <th>date_created</th>\n",
       "      <th>pictures_number</th>\n",
       "      <th>postal_code</th>\n",
       "      <th>last_seen</th>\n",
       "    </tr>\n",
       "  </thead>\n",
       "  <tbody>\n",
       "    <tr>\n",
       "      <th>count</th>\n",
       "      <td>50000</td>\n",
       "      <td>50000</td>\n",
       "      <td>50000</td>\n",
       "      <td>50000</td>\n",
       "      <td>50000</td>\n",
       "      <td>50000</td>\n",
       "      <td>44905</td>\n",
       "      <td>50000.0000</td>\n",
       "      <td>47320</td>\n",
       "      <td>50000.0000</td>\n",
       "      <td>47242</td>\n",
       "      <td>50000</td>\n",
       "      <td>50000.0000</td>\n",
       "      <td>45518</td>\n",
       "      <td>50000</td>\n",
       "      <td>40171</td>\n",
       "      <td>50000</td>\n",
       "      <td>50000.0000</td>\n",
       "      <td>50000.0000</td>\n",
       "      <td>50000</td>\n",
       "    </tr>\n",
       "    <tr>\n",
       "      <th>unique</th>\n",
       "      <td>48213</td>\n",
       "      <td>38754</td>\n",
       "      <td>2</td>\n",
       "      <td>2</td>\n",
       "      <td>2357</td>\n",
       "      <td>2</td>\n",
       "      <td>8</td>\n",
       "      <td>NaN</td>\n",
       "      <td>2</td>\n",
       "      <td>NaN</td>\n",
       "      <td>245</td>\n",
       "      <td>13</td>\n",
       "      <td>NaN</td>\n",
       "      <td>7</td>\n",
       "      <td>40</td>\n",
       "      <td>2</td>\n",
       "      <td>76</td>\n",
       "      <td>NaN</td>\n",
       "      <td>NaN</td>\n",
       "      <td>39481</td>\n",
       "    </tr>\n",
       "    <tr>\n",
       "      <th>top</th>\n",
       "      <td>2016-04-02 11:37:04</td>\n",
       "      <td>Ford_Fiesta</td>\n",
       "      <td>privat</td>\n",
       "      <td>Angebot</td>\n",
       "      <td>$0</td>\n",
       "      <td>test</td>\n",
       "      <td>limousine</td>\n",
       "      <td>NaN</td>\n",
       "      <td>manuell</td>\n",
       "      <td>NaN</td>\n",
       "      <td>golf</td>\n",
       "      <td>150,000km</td>\n",
       "      <td>NaN</td>\n",
       "      <td>benzin</td>\n",
       "      <td>volkswagen</td>\n",
       "      <td>nein</td>\n",
       "      <td>2016-04-03 00:00:00</td>\n",
       "      <td>NaN</td>\n",
       "      <td>NaN</td>\n",
       "      <td>2016-04-07 06:17:27</td>\n",
       "    </tr>\n",
       "    <tr>\n",
       "      <th>freq</th>\n",
       "      <td>3</td>\n",
       "      <td>78</td>\n",
       "      <td>49999</td>\n",
       "      <td>49999</td>\n",
       "      <td>1421</td>\n",
       "      <td>25756</td>\n",
       "      <td>12859</td>\n",
       "      <td>NaN</td>\n",
       "      <td>36993</td>\n",
       "      <td>NaN</td>\n",
       "      <td>4024</td>\n",
       "      <td>32424</td>\n",
       "      <td>NaN</td>\n",
       "      <td>30107</td>\n",
       "      <td>10687</td>\n",
       "      <td>35232</td>\n",
       "      <td>1946</td>\n",
       "      <td>NaN</td>\n",
       "      <td>NaN</td>\n",
       "      <td>8</td>\n",
       "    </tr>\n",
       "    <tr>\n",
       "      <th>mean</th>\n",
       "      <td>NaN</td>\n",
       "      <td>NaN</td>\n",
       "      <td>NaN</td>\n",
       "      <td>NaN</td>\n",
       "      <td>NaN</td>\n",
       "      <td>NaN</td>\n",
       "      <td>NaN</td>\n",
       "      <td>2005.0733</td>\n",
       "      <td>NaN</td>\n",
       "      <td>116.3559</td>\n",
       "      <td>NaN</td>\n",
       "      <td>NaN</td>\n",
       "      <td>5.7234</td>\n",
       "      <td>NaN</td>\n",
       "      <td>NaN</td>\n",
       "      <td>NaN</td>\n",
       "      <td>NaN</td>\n",
       "      <td>0.0000</td>\n",
       "      <td>50813.6273</td>\n",
       "      <td>NaN</td>\n",
       "    </tr>\n",
       "    <tr>\n",
       "      <th>std</th>\n",
       "      <td>NaN</td>\n",
       "      <td>NaN</td>\n",
       "      <td>NaN</td>\n",
       "      <td>NaN</td>\n",
       "      <td>NaN</td>\n",
       "      <td>NaN</td>\n",
       "      <td>NaN</td>\n",
       "      <td>105.7128</td>\n",
       "      <td>NaN</td>\n",
       "      <td>209.2166</td>\n",
       "      <td>NaN</td>\n",
       "      <td>NaN</td>\n",
       "      <td>3.7120</td>\n",
       "      <td>NaN</td>\n",
       "      <td>NaN</td>\n",
       "      <td>NaN</td>\n",
       "      <td>NaN</td>\n",
       "      <td>0.0000</td>\n",
       "      <td>25779.7480</td>\n",
       "      <td>NaN</td>\n",
       "    </tr>\n",
       "    <tr>\n",
       "      <th>min</th>\n",
       "      <td>NaN</td>\n",
       "      <td>NaN</td>\n",
       "      <td>NaN</td>\n",
       "      <td>NaN</td>\n",
       "      <td>NaN</td>\n",
       "      <td>NaN</td>\n",
       "      <td>NaN</td>\n",
       "      <td>1000.0000</td>\n",
       "      <td>NaN</td>\n",
       "      <td>0.0000</td>\n",
       "      <td>NaN</td>\n",
       "      <td>NaN</td>\n",
       "      <td>0.0000</td>\n",
       "      <td>NaN</td>\n",
       "      <td>NaN</td>\n",
       "      <td>NaN</td>\n",
       "      <td>NaN</td>\n",
       "      <td>0.0000</td>\n",
       "      <td>1067.0000</td>\n",
       "      <td>NaN</td>\n",
       "    </tr>\n",
       "    <tr>\n",
       "      <th>25%</th>\n",
       "      <td>NaN</td>\n",
       "      <td>NaN</td>\n",
       "      <td>NaN</td>\n",
       "      <td>NaN</td>\n",
       "      <td>NaN</td>\n",
       "      <td>NaN</td>\n",
       "      <td>NaN</td>\n",
       "      <td>1999.0000</td>\n",
       "      <td>NaN</td>\n",
       "      <td>70.0000</td>\n",
       "      <td>NaN</td>\n",
       "      <td>NaN</td>\n",
       "      <td>3.0000</td>\n",
       "      <td>NaN</td>\n",
       "      <td>NaN</td>\n",
       "      <td>NaN</td>\n",
       "      <td>NaN</td>\n",
       "      <td>0.0000</td>\n",
       "      <td>30451.0000</td>\n",
       "      <td>NaN</td>\n",
       "    </tr>\n",
       "    <tr>\n",
       "      <th>50%</th>\n",
       "      <td>NaN</td>\n",
       "      <td>NaN</td>\n",
       "      <td>NaN</td>\n",
       "      <td>NaN</td>\n",
       "      <td>NaN</td>\n",
       "      <td>NaN</td>\n",
       "      <td>NaN</td>\n",
       "      <td>2003.0000</td>\n",
       "      <td>NaN</td>\n",
       "      <td>105.0000</td>\n",
       "      <td>NaN</td>\n",
       "      <td>NaN</td>\n",
       "      <td>6.0000</td>\n",
       "      <td>NaN</td>\n",
       "      <td>NaN</td>\n",
       "      <td>NaN</td>\n",
       "      <td>NaN</td>\n",
       "      <td>0.0000</td>\n",
       "      <td>49577.0000</td>\n",
       "      <td>NaN</td>\n",
       "    </tr>\n",
       "    <tr>\n",
       "      <th>75%</th>\n",
       "      <td>NaN</td>\n",
       "      <td>NaN</td>\n",
       "      <td>NaN</td>\n",
       "      <td>NaN</td>\n",
       "      <td>NaN</td>\n",
       "      <td>NaN</td>\n",
       "      <td>NaN</td>\n",
       "      <td>2008.0000</td>\n",
       "      <td>NaN</td>\n",
       "      <td>150.0000</td>\n",
       "      <td>NaN</td>\n",
       "      <td>NaN</td>\n",
       "      <td>9.0000</td>\n",
       "      <td>NaN</td>\n",
       "      <td>NaN</td>\n",
       "      <td>NaN</td>\n",
       "      <td>NaN</td>\n",
       "      <td>0.0000</td>\n",
       "      <td>71540.0000</td>\n",
       "      <td>NaN</td>\n",
       "    </tr>\n",
       "    <tr>\n",
       "      <th>max</th>\n",
       "      <td>NaN</td>\n",
       "      <td>NaN</td>\n",
       "      <td>NaN</td>\n",
       "      <td>NaN</td>\n",
       "      <td>NaN</td>\n",
       "      <td>NaN</td>\n",
       "      <td>NaN</td>\n",
       "      <td>9999.0000</td>\n",
       "      <td>NaN</td>\n",
       "      <td>17700.0000</td>\n",
       "      <td>NaN</td>\n",
       "      <td>NaN</td>\n",
       "      <td>12.0000</td>\n",
       "      <td>NaN</td>\n",
       "      <td>NaN</td>\n",
       "      <td>NaN</td>\n",
       "      <td>NaN</td>\n",
       "      <td>0.0000</td>\n",
       "      <td>99998.0000</td>\n",
       "      <td>NaN</td>\n",
       "    </tr>\n",
       "  </tbody>\n",
       "</table>\n",
       "</div>"
      ],
      "text/plain": [
       "               date_crawled         name  seller offer_type  price ab_test  \\\n",
       "count                 50000        50000   50000      50000  50000   50000   \n",
       "unique                48213        38754       2          2   2357       2   \n",
       "top     2016-04-02 11:37:04  Ford_Fiesta  privat    Angebot     $0    test   \n",
       "freq                      3           78   49999      49999   1421   25756   \n",
       "mean                    NaN          NaN     NaN        NaN    NaN     NaN   \n",
       "std                     NaN          NaN     NaN        NaN    NaN     NaN   \n",
       "min                     NaN          NaN     NaN        NaN    NaN     NaN   \n",
       "25%                     NaN          NaN     NaN        NaN    NaN     NaN   \n",
       "50%                     NaN          NaN     NaN        NaN    NaN     NaN   \n",
       "75%                     NaN          NaN     NaN        NaN    NaN     NaN   \n",
       "max                     NaN          NaN     NaN        NaN    NaN     NaN   \n",
       "\n",
       "       vehicle_type  registration_year  gearbox   power_ps  model   odometer  \\\n",
       "count         44905         50000.0000    47320 50000.0000  47242      50000   \n",
       "unique            8                NaN        2        NaN    245         13   \n",
       "top       limousine                NaN  manuell        NaN   golf  150,000km   \n",
       "freq          12859                NaN    36993        NaN   4024      32424   \n",
       "mean            NaN          2005.0733      NaN   116.3559    NaN        NaN   \n",
       "std             NaN           105.7128      NaN   209.2166    NaN        NaN   \n",
       "min             NaN          1000.0000      NaN     0.0000    NaN        NaN   \n",
       "25%             NaN          1999.0000      NaN    70.0000    NaN        NaN   \n",
       "50%             NaN          2003.0000      NaN   105.0000    NaN        NaN   \n",
       "75%             NaN          2008.0000      NaN   150.0000    NaN        NaN   \n",
       "max             NaN          9999.0000      NaN 17700.0000    NaN        NaN   \n",
       "\n",
       "        registration_month fuel_type       brand unrepaired_damage  \\\n",
       "count           50000.0000     45518       50000             40171   \n",
       "unique                 NaN         7          40                 2   \n",
       "top                    NaN    benzin  volkswagen              nein   \n",
       "freq                   NaN     30107       10687             35232   \n",
       "mean                5.7234       NaN         NaN               NaN   \n",
       "std                 3.7120       NaN         NaN               NaN   \n",
       "min                 0.0000       NaN         NaN               NaN   \n",
       "25%                 3.0000       NaN         NaN               NaN   \n",
       "50%                 6.0000       NaN         NaN               NaN   \n",
       "75%                 9.0000       NaN         NaN               NaN   \n",
       "max                12.0000       NaN         NaN               NaN   \n",
       "\n",
       "               date_created  pictures_number  postal_code            last_seen  \n",
       "count                 50000       50000.0000   50000.0000                50000  \n",
       "unique                   76              NaN          NaN                39481  \n",
       "top     2016-04-03 00:00:00              NaN          NaN  2016-04-07 06:17:27  \n",
       "freq                   1946              NaN          NaN                    8  \n",
       "mean                    NaN           0.0000   50813.6273                  NaN  \n",
       "std                     NaN           0.0000   25779.7480                  NaN  \n",
       "min                     NaN           0.0000    1067.0000                  NaN  \n",
       "25%                     NaN           0.0000   30451.0000                  NaN  \n",
       "50%                     NaN           0.0000   49577.0000                  NaN  \n",
       "75%                     NaN           0.0000   71540.0000                  NaN  \n",
       "max                     NaN           0.0000   99998.0000                  NaN  "
      ]
     },
     "execution_count": 5,
     "metadata": {},
     "output_type": "execute_result"
    }
   ],
   "source": [
    "# Generate descriptive statistics for all columns\n",
    "autos.describe(include='all')"
   ]
  },
  {
   "cell_type": "markdown",
   "metadata": {},
   "source": [
    "From the descriptive statistics table, there are a number of things worth noting:\n",
    "\n",
    "- The `seller` and `offer_type` columns mostly contain the same values, thus we can safely remove them from the DataFrame.\n",
    "- The `price` and `odometer` columns contain numeric values stored as text, which can be cleaned and converted.\n",
    "- We should consider removing some rows based on the `registration_year` column. The table contains a minimum and maximum value of `1000` and `9999`, respectively. This is highly impropable for vehicle registrations.\n",
    "- The minimum value in the `registration_month` column is `0`, which is impossible.\n",
    "- The maximum value in the `power_ps` column is significantly higher than the value at the `75th` percentile, which suggests some inaccurate data in this column.\n",
    "- We can drop the `pictures_number` column as none of the rows have any pictures."
   ]
  },
  {
   "cell_type": "markdown",
   "metadata": {},
   "source": [
    "### 4.2. Part Two"
   ]
  },
  {
   "cell_type": "markdown",
   "metadata": {},
   "source": [
    "Because the `price` and `odometer` columns contain numeric values stored as text, we'll create two functions – one for each column, to remove any non-numeric characters, and convert the columns to a numeric data type."
   ]
  },
  {
   "cell_type": "code",
   "execution_count": 6,
   "metadata": {},
   "outputs": [
    {
     "data": {
      "text/html": [
       "<div>\n",
       "<style scoped>\n",
       "    .dataframe tbody tr th:only-of-type {\n",
       "        vertical-align: middle;\n",
       "    }\n",
       "\n",
       "    .dataframe tbody tr th {\n",
       "        vertical-align: top;\n",
       "    }\n",
       "\n",
       "    .dataframe thead th {\n",
       "        text-align: right;\n",
       "    }\n",
       "</style>\n",
       "<table border=\"1\" class=\"dataframe\">\n",
       "  <thead>\n",
       "    <tr style=\"text-align: right;\">\n",
       "      <th></th>\n",
       "      <th>price</th>\n",
       "      <th>odometer</th>\n",
       "    </tr>\n",
       "  </thead>\n",
       "  <tbody>\n",
       "    <tr>\n",
       "      <th>0</th>\n",
       "      <td>$5,000</td>\n",
       "      <td>150,000km</td>\n",
       "    </tr>\n",
       "    <tr>\n",
       "      <th>1</th>\n",
       "      <td>$8,500</td>\n",
       "      <td>150,000km</td>\n",
       "    </tr>\n",
       "    <tr>\n",
       "      <th>2</th>\n",
       "      <td>$8,990</td>\n",
       "      <td>70,000km</td>\n",
       "    </tr>\n",
       "    <tr>\n",
       "      <th>3</th>\n",
       "      <td>$4,350</td>\n",
       "      <td>70,000km</td>\n",
       "    </tr>\n",
       "    <tr>\n",
       "      <th>4</th>\n",
       "      <td>$1,350</td>\n",
       "      <td>150,000km</td>\n",
       "    </tr>\n",
       "  </tbody>\n",
       "</table>\n",
       "</div>"
      ],
      "text/plain": [
       "    price   odometer\n",
       "0  $5,000  150,000km\n",
       "1  $8,500  150,000km\n",
       "2  $8,990   70,000km\n",
       "3  $4,350   70,000km\n",
       "4  $1,350  150,000km"
      ]
     },
     "execution_count": 6,
     "metadata": {},
     "output_type": "execute_result"
    }
   ],
   "source": [
    "# Select the 'price' and 'odometer' columns, then display the first 5 rows\n",
    "price_and_odometer = autos[['price', 'odometer']]\n",
    "price_and_odometer.head()"
   ]
  },
  {
   "cell_type": "code",
   "execution_count": 7,
   "metadata": {},
   "outputs": [
    {
     "data": {
      "text/plain": [
       "0    5000\n",
       "1    8500\n",
       "2    8990\n",
       "3    4350\n",
       "4    1350\n",
       "Name: price, dtype: int64"
      ]
     },
     "execution_count": 7,
     "metadata": {},
     "output_type": "execute_result"
    }
   ],
   "source": [
    "def convert_price(string):\n",
    "    # Check if the value is null\n",
    "    if pd.isnull(string):\n",
    "        return None\n",
    "    else:\n",
    "        # Remove non-numeric characters and convert to integer\n",
    "        string = string.replace('$','')\n",
    "        string = string.replace(',','')\n",
    "        return int(string)\n",
    "\n",
    "# Apply the conversion function to the 'price' column\n",
    "autos['price'] = autos['price'].apply(convert_price)\n",
    "autos['price'].head()"
   ]
  },
  {
   "cell_type": "code",
   "execution_count": 8,
   "metadata": {
    "scrolled": false
   },
   "outputs": [
    {
     "data": {
      "text/plain": [
       "0    150000\n",
       "1    150000\n",
       "2     70000\n",
       "3     70000\n",
       "4    150000\n",
       "Name: odometer, dtype: int64"
      ]
     },
     "execution_count": 8,
     "metadata": {},
     "output_type": "execute_result"
    }
   ],
   "source": [
    "def convert_odometer(string):\n",
    "    # Check if the value is null\n",
    "    if pd.isnull(string):\n",
    "        return None\n",
    "    else:\n",
    "        # Remove non-numeric characters and 'km', then convert to integer\n",
    "        string = string.split(' ')[0]\n",
    "        string = string.replace(',','')\n",
    "        string = string.replace('km','')\n",
    "        return int(string)\n",
    "\n",
    "# Apply the conversion function to the 'odometer' column\n",
    "autos['odometer'] = autos['odometer'].apply(convert_odometer)\n",
    "autos['odometer'].head()"
   ]
  },
  {
   "cell_type": "markdown",
   "metadata": {},
   "source": [
    "### 4.3. Part Three"
   ]
  },
  {
   "cell_type": "markdown",
   "metadata": {},
   "source": [
    "Let's rename `odometer` to `odometer_km` to be more descriptive, and also drop the columns that won't be required for our analysis."
   ]
  },
  {
   "cell_type": "code",
   "execution_count": 9,
   "metadata": {},
   "outputs": [
    {
     "data": {
      "text/plain": [
       "Index(['date_crawled', 'name', 'price', 'ab_test', 'vehicle_type',\n",
       "       'registration_year', 'gearbox', 'power_ps', 'model', 'odometer_km',\n",
       "       'registration_month', 'fuel_type', 'brand', 'unrepaired_damage',\n",
       "       'date_created', 'postal_code', 'last_seen'],\n",
       "      dtype='object')"
      ]
     },
     "execution_count": 9,
     "metadata": {},
     "output_type": "execute_result"
    }
   ],
   "source": [
    "# Rename the 'odometer' column, and drop the unnecessary columns\n",
    "autos = autos.rename({'odometer': 'odometer_km'}, axis=1)\n",
    "autos = autos.drop([\"pictures_number\", \"seller\", \"offer_type\"], axis='columns')\n",
    "\n",
    "# Display the column names after renaming and dropping columns\n",
    "autos.columns"
   ]
  },
  {
   "cell_type": "markdown",
   "metadata": {},
   "source": [
    "## 5. Exploring the Odometer and Price Columns"
   ]
  },
  {
   "cell_type": "markdown",
   "metadata": {},
   "source": [
    "Let's continue exploring the data, specifically looking for suspicious data. We'll start by analyzing the `odometer_km` and `price` columns using their minimum and maximum values, then remove any outliers that look unrealistically high or low."
   ]
  },
  {
   "cell_type": "code",
   "execution_count": 10,
   "metadata": {
    "scrolled": true
   },
   "outputs": [
    {
     "name": "stdout",
     "output_type": "stream",
     "text": [
      "13\n",
      "\n",
      "count    50000.0000\n",
      "mean    125732.7000\n",
      "std      40042.2117\n",
      "min       5000.0000\n",
      "25%     125000.0000\n",
      "50%     150000.0000\n",
      "75%     150000.0000\n",
      "max     150000.0000\n",
      "Name: odometer_km, dtype: float64\n",
      "\n",
      "odometer_km\n",
      "150000    32424\n",
      "125000     5170\n",
      "100000     2169\n",
      "90000      1757\n",
      "80000      1436\n",
      "Name: count, dtype: int64\n"
     ]
    }
   ],
   "source": [
    "# Display the number of unique values, the descriptive statistics,\n",
    "# and the frequency of the top 5 most common values for the 'odometer_km' column\n",
    "print(autos['odometer_km'].nunique(), end='\\n\\n')\n",
    "print(autos['odometer_km'].describe(), end='\\n\\n')\n",
    "print(autos['odometer_km'].value_counts().head())"
   ]
  },
  {
   "cell_type": "markdown",
   "metadata": {},
   "source": [
    "There are `13` unique values in the `odometer_km` column. We also notice that most cars in this dataset have higher odometer readings. Additionally, there don't appear to be any unrealistically high or low outliers in this column."
   ]
  },
  {
   "cell_type": "code",
   "execution_count": 11,
   "metadata": {
    "scrolled": true
   },
   "outputs": [
    {
     "name": "stdout",
     "output_type": "stream",
     "text": [
      "2357\n",
      "\n",
      "count      50000.0000\n",
      "mean        9840.0438\n",
      "std       481104.3805\n",
      "min            0.0000\n",
      "25%         1100.0000\n",
      "50%         2950.0000\n",
      "75%         7200.0000\n",
      "max     99999999.0000\n",
      "Name: price, dtype: float64\n",
      "\n",
      "price\n",
      "0       1421\n",
      "500      781\n",
      "1500     734\n",
      "2500     643\n",
      "1000     639\n",
      "Name: count, dtype: int64\n"
     ]
    }
   ],
   "source": [
    "# Display the number of unique values, the descriptive statistics,\n",
    "# and the frequency of the top 5 most common values for the 'price' column\n",
    "print(autos['price'].nunique(), end='\\n\\n')\n",
    "print(autos['price'].describe(), end='\\n\\n')\n",
    "print(autos['price'].value_counts().head())"
   ]
  },
  {
   "cell_type": "markdown",
   "metadata": {},
   "source": [
    "We can see that there are `1421` rows of cars with a price of `0` dollars, which appears improbable. Also, the maximum price for a car is a whopping `$99,999,999`! We will need to further examine the highest and lowest prices of this column."
   ]
  },
  {
   "cell_type": "code",
   "execution_count": 12,
   "metadata": {
    "scrolled": true
   },
   "outputs": [
    {
     "data": {
      "text/plain": [
       "price\n",
       "0     1421\n",
       "1      156\n",
       "2        3\n",
       "3        1\n",
       "5        2\n",
       "8        1\n",
       "9        1\n",
       "10       7\n",
       "11       2\n",
       "12       3\n",
       "13       2\n",
       "14       1\n",
       "15       2\n",
       "17       3\n",
       "18       1\n",
       "Name: count, dtype: int64"
      ]
     },
     "execution_count": 12,
     "metadata": {},
     "output_type": "execute_result"
    }
   ],
   "source": [
    "# Display the frequency of the top 15 lowest prices in ascending order\n",
    "autos['price'].value_counts().sort_index().head(15)"
   ]
  },
  {
   "cell_type": "markdown",
   "metadata": {},
   "source": [
    "When examining the low end of the price spectrum, we notice there are a number of prices below `18` dollars. It would be safe to keep the lowest prices in our DataFrame as eBay is an auction site, and there can be starting bids of `$1`."
   ]
  },
  {
   "cell_type": "code",
   "execution_count": 13,
   "metadata": {
    "scrolled": true
   },
   "outputs": [
    {
     "data": {
      "text/plain": [
       "price\n",
       "99999999    1\n",
       "27322222    1\n",
       "12345678    3\n",
       "11111111    2\n",
       "10000000    1\n",
       "3890000     1\n",
       "1300000     1\n",
       "1234566     1\n",
       "999999      2\n",
       "999990      1\n",
       "350000      1\n",
       "345000      1\n",
       "299000      1\n",
       "295000      1\n",
       "265000      1\n",
       "Name: count, dtype: int64"
      ]
     },
     "execution_count": 13,
     "metadata": {},
     "output_type": "execute_result"
    }
   ],
   "source": [
    "# Display the frequency of the top 15 highest prices in descending order\n",
    "autos['price'].value_counts().sort_index(ascending=False).head(15)"
   ]
  },
  {
   "cell_type": "markdown",
   "metadata": {},
   "source": [
    "When examining the high end of the price spectrum, we notice a sudden spike from `350,000` to `999,990` dollars, which differs significantly from the gradual increase in prices observed before. Given this anomaly, it's safe to exclude any data points exceeding `$350,000`."
   ]
  },
  {
   "cell_type": "code",
   "execution_count": 14,
   "metadata": {
    "scrolled": false
   },
   "outputs": [
    {
     "data": {
      "text/plain": [
       "count    48565.0000\n",
       "mean      5888.9356\n",
       "std       9059.8548\n",
       "min          1.0000\n",
       "25%       1200.0000\n",
       "50%       3000.0000\n",
       "75%       7490.0000\n",
       "max     350000.0000\n",
       "Name: price, dtype: float64"
      ]
     },
     "execution_count": 14,
     "metadata": {},
     "output_type": "execute_result"
    }
   ],
   "source": [
    "# Filter the 'autos' dataset to include only rows where the price falls between $1 and $350,000\n",
    "autos = autos[autos['price'].between(1, 350000)]\n",
    "\n",
    "# Display descriptive statistics for the 'price' column after filtering\n",
    "autos['price'].describe()"
   ]
  },
  {
   "cell_type": "markdown",
   "metadata": {},
   "source": [
    "After filtering the dataset, the maximum value in the `price` column has become `350,000` instead of `99,999,999` dollars, which was highly unrealistic. Additionally, the mean price decreased from `9,840` to `5,889` dollars, reflecting the removal of extremely high-priced outliers."
   ]
  },
  {
   "cell_type": "markdown",
   "metadata": {},
   "source": [
    "## 6. Exploring the Date Columns"
   ]
  },
  {
   "cell_type": "markdown",
   "metadata": {},
   "source": [
    "Let's now move on to the date columns and understand the date range the data covers. There are five columns that represent date values. Some of these were created by the crawler, while others came from the website itself:\n",
    "\n",
    "* `date_crawled` – added by the crawler.\n",
    "* `last_seen` – added by the crawler.\n",
    "* `date_created` – from the website.\n",
    "* `registration_month` – from the website.\n",
    "* `registration_year` – from the website.\n",
    "\n",
    "In our dataset, the columns `date_crawled`, `date_created`, and `last_seen` are currently represented as strings. We'll convert them to a numeric format so we can understand them quantitatively. However, the `registration_month` and `registration_year` columns are already in numeric format.\n",
    "\n",
    "Let's first understand how the values in the first three string columns are formatted. These columns all represent full timestamp values:"
   ]
  },
  {
   "cell_type": "code",
   "execution_count": 15,
   "metadata": {
    "scrolled": true
   },
   "outputs": [
    {
     "data": {
      "text/html": [
       "<div>\n",
       "<style scoped>\n",
       "    .dataframe tbody tr th:only-of-type {\n",
       "        vertical-align: middle;\n",
       "    }\n",
       "\n",
       "    .dataframe tbody tr th {\n",
       "        vertical-align: top;\n",
       "    }\n",
       "\n",
       "    .dataframe thead th {\n",
       "        text-align: right;\n",
       "    }\n",
       "</style>\n",
       "<table border=\"1\" class=\"dataframe\">\n",
       "  <thead>\n",
       "    <tr style=\"text-align: right;\">\n",
       "      <th></th>\n",
       "      <th>date_crawled</th>\n",
       "      <th>date_created</th>\n",
       "      <th>last_seen</th>\n",
       "    </tr>\n",
       "  </thead>\n",
       "  <tbody>\n",
       "    <tr>\n",
       "      <th>0</th>\n",
       "      <td>2016-03-26 17:47:46</td>\n",
       "      <td>2016-03-26 00:00:00</td>\n",
       "      <td>2016-04-06 06:45:54</td>\n",
       "    </tr>\n",
       "    <tr>\n",
       "      <th>1</th>\n",
       "      <td>2016-04-04 13:38:56</td>\n",
       "      <td>2016-04-04 00:00:00</td>\n",
       "      <td>2016-04-06 14:45:08</td>\n",
       "    </tr>\n",
       "    <tr>\n",
       "      <th>2</th>\n",
       "      <td>2016-03-26 18:57:24</td>\n",
       "      <td>2016-03-26 00:00:00</td>\n",
       "      <td>2016-04-06 20:15:37</td>\n",
       "    </tr>\n",
       "    <tr>\n",
       "      <th>3</th>\n",
       "      <td>2016-03-12 16:58:10</td>\n",
       "      <td>2016-03-12 00:00:00</td>\n",
       "      <td>2016-03-15 03:16:28</td>\n",
       "    </tr>\n",
       "    <tr>\n",
       "      <th>4</th>\n",
       "      <td>2016-04-01 14:38:50</td>\n",
       "      <td>2016-04-01 00:00:00</td>\n",
       "      <td>2016-04-01 14:38:50</td>\n",
       "    </tr>\n",
       "  </tbody>\n",
       "</table>\n",
       "</div>"
      ],
      "text/plain": [
       "          date_crawled         date_created            last_seen\n",
       "0  2016-03-26 17:47:46  2016-03-26 00:00:00  2016-04-06 06:45:54\n",
       "1  2016-04-04 13:38:56  2016-04-04 00:00:00  2016-04-06 14:45:08\n",
       "2  2016-03-26 18:57:24  2016-03-26 00:00:00  2016-04-06 20:15:37\n",
       "3  2016-03-12 16:58:10  2016-03-12 00:00:00  2016-03-15 03:16:28\n",
       "4  2016-04-01 14:38:50  2016-04-01 00:00:00  2016-04-01 14:38:50"
      ]
     },
     "execution_count": 15,
     "metadata": {},
     "output_type": "execute_result"
    }
   ],
   "source": [
    "# Display the first 5 rows of the 'date_crawled', 'date_created', and 'last_seen' columns\n",
    "autos[['date_crawled', 'date_created', 'last_seen']][0:5]"
   ]
  },
  {
   "cell_type": "markdown",
   "metadata": {},
   "source": [
    "The first `10` characters in every column represent the day (e.g. `2016-03-26`). To understand the date range, we'll extract only the date values, then visualize their distribution using a **grid chart** for easier comparison."
   ]
  },
  {
   "cell_type": "code",
   "execution_count": 16,
   "metadata": {
    "scrolled": false
   },
   "outputs": [
    {
     "data": {
      "image/png": "[encoded data removed]",
      "text/plain": [
       "<Figure size 1000x450 with 2 Axes>"
      ]
     },
     "metadata": {},
     "output_type": "display_data"
    }
   ],
   "source": [
    "# Calculate the distribution of dates in the 'date_crawled' and 'date_created' columns\n",
    "date_crawled_counts = autos['date_crawled'].str[:10].value_counts().sort_index()\n",
    "date_created_counts = autos['date_created'].str[:10].value_counts().sort_index()\n",
    "\n",
    "# Set the plot style to 'fivethirtyeight', and set the figure size\n",
    "plt.style.use('fivethirtyeight')\n",
    "plt.figure(figsize=(10, 4.5))\n",
    "\n",
    "# Add a main title and a subtitle\n",
    "plt.suptitle('EBay Kleinanzeigen Was Crawled Daily over Approximately\\n\\\n",
    "a One-Month Period from March to April 2016',\n",
    "             ha=\"center\", weight='bold', size=18, x=0.5, y=1.08)\n",
    "plt.figtext(s=\"The Majority of Ads Were Created within a Similar Time Frame as the Crawling Dates,\\n\\\n",
    "Which Indicates a Correlation between the Two Activities\",\n",
    "            ha=\"center\", x=0.5, y=0.87, size=14)\n",
    "\n",
    "# Plot a bar graph for the 'date_crawled' and 'date_created' data\n",
    "plt.subplot(1, 2, 1)\n",
    "date_crawled_counts.plot(kind='bar', color='#00B2EE')\n",
    "plt.xlabel('Crawling Dates', c='#333333', labelpad=8, size=12.5)\n",
    "\n",
    "plt.subplot(1, 2, 2)\n",
    "date_created_counts.plot(kind='bar', color='#BF5FFF')\n",
    "plt.xlabel('Creation Dates', c='#333333', labelpad=8, size=12.5)\n",
    "\n",
    "# Customize ticks, labels, gridlines, and remove all spines\n",
    "for i, n in zip(range(1, 3), (6, 8)):  \n",
    "    plt.subplot(1, 2, i)\n",
    "    plt.yticks(range(500, 2500, 500), size=11, c='grey')\n",
    "    plt.xticks(rotation=45, size=10.5, c='grey')\n",
    "    plt.grid(alpha=0.5)\n",
    "    \n",
    "    plt.gca().get_xaxis().set_major_locator(plt.MaxNLocator(nbins=n))\n",
    "    plt.gca().tick_params(axis='x', colors='grey', labelsize=10, length=5)\n",
    "    \n",
    "    for loc in ['left', 'right', 'bottom', 'top']:\n",
    "        plt.gca().spines[loc].set_visible(False)\n",
    "\n",
    "# Adjust layout and display the plot\n",
    "plt.tight_layout()\n",
    "plt.show()"
   ]
  },
  {
   "cell_type": "markdown",
   "metadata": {},
   "source": [
    "It appears that the website was crawled daily over approximately a one-month period in `2016`, from `March` to `April`. The distribution of crawling dates is roughly uniform, with some fluctuations.\n",
    "\n",
    "We observe that the majority of ads were created within a similar time frame as the crawling dates. This indicates a correlation between the two activities, suggesting that the ads were likely created either before or during the crawling period."
   ]
  },
  {
   "cell_type": "code",
   "execution_count": 17,
   "metadata": {
    "scrolled": false
   },
   "outputs": [
    {
     "data": {
      "image/png": "[encoded data removed]",
      "text/plain": [
       "<Figure size 650x350 with 1 Axes>"
      ]
     },
     "metadata": {},
     "output_type": "display_data"
    }
   ],
   "source": [
    "# Calculate the distribution of dates in the 'last_seen' column\n",
    "last_seen_counts = (autos['last_seen'].str[:10].value_counts().sort_index())\n",
    "\n",
    "# Set the figure size\n",
    "plt.figure(figsize=(6.5, 3.5))\n",
    "\n",
    "# Add a main title and a subtitle\n",
    "plt.suptitle('The Crawler Has Encountered the Highest\\n\\\n",
    "Number of Ads during the Last Three Days',\n",
    "             ha=\"center\", weight='bold', size=15, x=0.5, y=1.15)\n",
    "plt.figtext(s=\"This Notable Increase in the Number of Seen Ads Is Likely\\n\\\n",
    "Related to the End of the Crawling Period\",\n",
    "            ha=\"center\", x=0.5, y=0.93, size=12)\n",
    "\n",
    "# Plot a bar graph for the 'last_seen' data\n",
    "last_seen_counts.plot(kind='bar', color='#ffa500')\n",
    "plt.xlabel(\"Last Seen Dates\", c='#333333', labelpad=8, size=12.5)\n",
    "\n",
    "# Customize ticks, labels, and gridlines\n",
    "plt.yticks(range(2000, 12000, 2000), size=11, c='grey')\n",
    "plt.xticks(rotation=45, size=10, c='grey')\n",
    "plt.grid(alpha=0.5)\n",
    "\n",
    "plt.gca().get_xaxis().set_major_locator(plt.MaxNLocator(nbins=7))\n",
    "plt.gca().tick_params(axis='x', colors='grey', labelsize=10, length=5)\n",
    "\n",
    "# Display the plot\n",
    "plt.show()"
   ]
  },
  {
   "cell_type": "markdown",
   "metadata": {},
   "source": [
    "We observe a strong spike in the number of views during the last `3` days. The `last_seen` column indicates the date when the crawler last saw an ad, which allows us to infer when an ad has been delisted from the site, presumably due to a sale.\n",
    "\n",
    "However, this notable spike in views is unlikely to be attributed to a sudden increase in sales, as the prior days exhibited a relatively consistent distribution. Instead, this significant spike is more likely related to the end of the crawling period."
   ]
  },
  {
   "cell_type": "markdown",
   "metadata": {},
   "source": [
    "## 7. Dealing with Incorrect Registration Year Data"
   ]
  },
  {
   "cell_type": "markdown",
   "metadata": {},
   "source": [
    "As we mentioned earlier, the `registration_year` column contains incorrect entries, such as the minimum value of `1000`, predating the invention of cars, and the maximum value of `9999`, representing years too far in the future.\n",
    "\n",
    "Since a car's registration year cannot exceed the listing's `last_seen` date, any vehicle with a registration year beyond `2016` is definitely inaccurate. Determining the earliest reasonable year is more challenging. Realistically, it might fall within the first few decades of the `1900s`."
   ]
  },
  {
   "cell_type": "code",
   "execution_count": 18,
   "metadata": {
    "scrolled": true
   },
   "outputs": [
    {
     "data": {
      "text/plain": [
       "count   48565.0000\n",
       "mean     2004.7554\n",
       "std        88.6439\n",
       "min      1000.0000\n",
       "25%      1999.0000\n",
       "50%      2004.0000\n",
       "75%      2008.0000\n",
       "max      9999.0000\n",
       "Name: registration_year, dtype: float64"
      ]
     },
     "execution_count": 18,
     "metadata": {},
     "output_type": "execute_result"
    }
   ],
   "source": [
    "# Display descriptive statistics for the 'registration_year' column\n",
    "autos[\"registration_year\"].describe()"
   ]
  },
  {
   "cell_type": "markdown",
   "metadata": {},
   "source": [
    "Let's count the number of listings with cars that fall outside the `1900–2016` range. If they account for less than `5%` of the data, we'll remove their rows entirely."
   ]
  },
  {
   "cell_type": "code",
   "execution_count": 19,
   "metadata": {
    "scrolled": true
   },
   "outputs": [
    {
     "data": {
      "text/plain": [
       "0.96"
      ]
     },
     "execution_count": 19,
     "metadata": {},
     "output_type": "execute_result"
    }
   ],
   "source": [
    "# Filter the registration years between 1900 and 2016\n",
    "valid_registration_years = autos['registration_year'].between(1900, 2016)\n",
    "\n",
    "# Count the number of valid registration years\n",
    "valid_registration_count = valid_registration_years.sum()\n",
    "\n",
    "# Calculate the proportion of valid registration years\n",
    "proportion_valid_years = round((valid_registration_count / autos.shape[0]), 2)\n",
    "proportion_valid_years"
   ]
  },
  {
   "cell_type": "code",
   "execution_count": 20,
   "metadata": {
    "scrolled": true
   },
   "outputs": [
    {
     "data": {
      "text/plain": [
       "registration_year\n",
       "2000   0.0676\n",
       "2005   0.0629\n",
       "1999   0.0621\n",
       "2004   0.0579\n",
       "2003   0.0578\n",
       "2006   0.0572\n",
       "2001   0.0565\n",
       "2002   0.0533\n",
       "1998   0.0506\n",
       "2007   0.0488\n",
       "Name: proportion, dtype: float64"
      ]
     },
     "execution_count": 20,
     "metadata": {},
     "output_type": "execute_result"
    }
   ],
   "source": [
    "# Filter rows where the registration year falls within the range 1900-2016\n",
    "autos = autos[(autos['registration_year'] >= 1900) & (autos['registration_year'] <= 2016)]\n",
    "\n",
    "# Display the top 10 most common registration years after filtering\n",
    "autos['registration_year'].value_counts(normalize=True).head(10)"
   ]
  },
  {
   "cell_type": "markdown",
   "metadata": {},
   "source": [
    "We can see that the majority of cars listed in the dataset were registered within the last `20` years."
   ]
  },
  {
   "cell_type": "markdown",
   "metadata": {},
   "source": [
    "## 8. Exploring Price by Brand"
   ]
  },
  {
   "cell_type": "markdown",
   "metadata": {},
   "source": [
    "Exploring variations across different car brands is a common practice when analyzing car data. We can use aggregation to gain insights from the `brand` column."
   ]
  },
  {
   "cell_type": "code",
   "execution_count": 21,
   "metadata": {
    "scrolled": true
   },
   "outputs": [
    {
     "data": {
      "text/plain": [
       "brand\n",
       "volkswagen       0.2113\n",
       "bmw              0.1100\n",
       "opel             0.1076\n",
       "mercedes_benz    0.0965\n",
       "audi             0.0866\n",
       "ford             0.0699\n",
       "renault          0.0471\n",
       "peugeot          0.0298\n",
       "fiat             0.0256\n",
       "seat             0.0183\n",
       "skoda            0.0164\n",
       "nissan           0.0153\n",
       "mazda            0.0152\n",
       "smart            0.0142\n",
       "citroen          0.0140\n",
       "toyota           0.0127\n",
       "hyundai          0.0100\n",
       "sonstige_autos   0.0098\n",
       "volvo            0.0091\n",
       "mini             0.0088\n",
       "mitsubishi       0.0082\n",
       "honda            0.0078\n",
       "kia              0.0071\n",
       "alfa_romeo       0.0066\n",
       "porsche          0.0061\n",
       "suzuki           0.0059\n",
       "chevrolet        0.0057\n",
       "chrysler         0.0035\n",
       "dacia            0.0026\n",
       "daihatsu         0.0025\n",
       "jeep             0.0023\n",
       "subaru           0.0021\n",
       "land_rover       0.0021\n",
       "saab             0.0016\n",
       "jaguar           0.0016\n",
       "daewoo           0.0015\n",
       "trabant          0.0014\n",
       "rover            0.0013\n",
       "lancia           0.0011\n",
       "lada             0.0006\n",
       "Name: proportion, dtype: float64"
      ]
     },
     "execution_count": 21,
     "metadata": {},
     "output_type": "execute_result"
    }
   ],
   "source": [
    "# Count the frequency of each car brand and normalize the results\n",
    "brands = autos['brand'].value_counts(normalize=True)\n",
    "brands"
   ]
  },
  {
   "cell_type": "markdown",
   "metadata": {},
   "source": [
    "German manufacturers make up the top `5` brands in the dataset, comprising almost `60%` of the overall listings. `Volkswagen` is the most popular, with approximately double the number of cars compared to the next two manufacturers.\n",
    "\n",
    "Since many brands don't have a significant percentage of listings, we'll focus our analysis on brands that represent more than `5%` of the total car sales data."
   ]
  },
  {
   "cell_type": "code",
   "execution_count": 22,
   "metadata": {},
   "outputs": [
    {
     "data": {
      "text/plain": [
       "Index(['volkswagen', 'bmw', 'opel', 'mercedes_benz', 'audi', 'ford'], dtype='object', name='brand')"
      ]
     },
     "execution_count": 22,
     "metadata": {},
     "output_type": "execute_result"
    }
   ],
   "source": [
    "# Extract brands with more than 5% of the total listings\n",
    "most_common_brands = brands[brands > 0.05].index\n",
    "most_common_brands"
   ]
  },
  {
   "cell_type": "code",
   "execution_count": 23,
   "metadata": {},
   "outputs": [
    {
     "data": {
      "text/plain": [
       "{'volkswagen': 5402,\n",
       " 'bmw': 8333,\n",
       " 'opel': 2975,\n",
       " 'mercedes_benz': 8628,\n",
       " 'audi': 9337,\n",
       " 'ford': 3749}"
      ]
     },
     "execution_count": 23,
     "metadata": {},
     "output_type": "execute_result"
    }
   ],
   "source": [
    "# Store the mean prices of brands\n",
    "brand_mean_prices = {}\n",
    "\n",
    "# Iterate over the most common brands\n",
    "for brand in most_common_brands:\n",
    "    \n",
    "    # Select data for the current brand, calculate its mean price, and store it to the dictionary\n",
    "    current_brand = autos[autos['brand'] == brand]\n",
    "    mean_price = current_brand['price'].mean()\n",
    "    brand_mean_prices[brand] = round(mean_price)\n",
    "\n",
    "# Display the mean prices of brands\n",
    "brand_mean_prices"
   ]
  },
  {
   "cell_type": "markdown",
   "metadata": {},
   "source": [
    "The analysis highlights a price disparity among the top `6` brands in the car sales data:\n",
    "\n",
    "- `Audi`, `BMW`, and `Mercedes Benz` vehicles are typically priced higher compared to their counterparts. \n",
    "- `Ford` and `Opel` emerge as the most budget-friendly, while `Volkswagen` falls somewhere in between.\n",
    "\n",
    "This pricing pattern may have contributed to the popularity of `Volkswagen` cars."
   ]
  },
  {
   "cell_type": "markdown",
   "metadata": {},
   "source": [
    "## 9. Storing Aggregate Data in a DataFrame"
   ]
  },
  {
   "cell_type": "markdown",
   "metadata": {},
   "source": [
    "For the top `6` brands, we can use a similar method to obtain the average mileage for those cars, and then see if there's any link with the mean price."
   ]
  },
  {
   "cell_type": "code",
   "execution_count": 24,
   "metadata": {},
   "outputs": [
    {
     "data": {
      "text/plain": [
       "{'volkswagen': 128707,\n",
       " 'bmw': 132573,\n",
       " 'opel': 129310,\n",
       " 'mercedes_benz': 130788,\n",
       " 'audi': 129157,\n",
       " 'ford': 124266}"
      ]
     },
     "execution_count": 24,
     "metadata": {},
     "output_type": "execute_result"
    }
   ],
   "source": [
    "# Store the mean mileages of brands\n",
    "brand_mean_mileages = {}\n",
    "\n",
    "# Iterate over the most common brands\n",
    "for brand in most_common_brands:\n",
    "    \n",
    "    # Select data for the current brand, calculate its mean mileage, and store it to the dictionary\n",
    "    current_brand = autos[autos['brand'] == brand]\n",
    "    mean_mileage = current_brand['odometer_km'].mean()\n",
    "    brand_mean_mileages[brand] = round(mean_mileage)\n",
    "    \n",
    "# Display the mean mileages of brands\n",
    "brand_mean_mileages"
   ]
  },
  {
   "cell_type": "markdown",
   "metadata": {},
   "source": [
    "Next, we'll combine the following Series objects into a single DataFrame with a shared index, so we can easily compare them:"
   ]
  },
  {
   "cell_type": "code",
   "execution_count": 25,
   "metadata": {
    "scrolled": false
   },
   "outputs": [
    {
     "data": {
      "text/html": [
       "<div>\n",
       "<style scoped>\n",
       "    .dataframe tbody tr th:only-of-type {\n",
       "        vertical-align: middle;\n",
       "    }\n",
       "\n",
       "    .dataframe tbody tr th {\n",
       "        vertical-align: top;\n",
       "    }\n",
       "\n",
       "    .dataframe thead th {\n",
       "        text-align: right;\n",
       "    }\n",
       "</style>\n",
       "<table border=\"1\" class=\"dataframe\">\n",
       "  <thead>\n",
       "    <tr style=\"text-align: right;\">\n",
       "      <th></th>\n",
       "      <th>mean_price</th>\n",
       "      <th>mean_mileage</th>\n",
       "    </tr>\n",
       "  </thead>\n",
       "  <tbody>\n",
       "    <tr>\n",
       "      <th>audi</th>\n",
       "      <td>9337</td>\n",
       "      <td>129157</td>\n",
       "    </tr>\n",
       "    <tr>\n",
       "      <th>mercedes_benz</th>\n",
       "      <td>8628</td>\n",
       "      <td>130788</td>\n",
       "    </tr>\n",
       "    <tr>\n",
       "      <th>bmw</th>\n",
       "      <td>8333</td>\n",
       "      <td>132573</td>\n",
       "    </tr>\n",
       "    <tr>\n",
       "      <th>volkswagen</th>\n",
       "      <td>5402</td>\n",
       "      <td>128707</td>\n",
       "    </tr>\n",
       "    <tr>\n",
       "      <th>ford</th>\n",
       "      <td>3749</td>\n",
       "      <td>124266</td>\n",
       "    </tr>\n",
       "    <tr>\n",
       "      <th>opel</th>\n",
       "      <td>2975</td>\n",
       "      <td>129310</td>\n",
       "    </tr>\n",
       "  </tbody>\n",
       "</table>\n",
       "</div>"
      ],
      "text/plain": [
       "               mean_price  mean_mileage\n",
       "audi                 9337        129157\n",
       "mercedes_benz        8628        130788\n",
       "bmw                  8333        132573\n",
       "volkswagen           5402        128707\n",
       "ford                 3749        124266\n",
       "opel                 2975        129310"
      ]
     },
     "execution_count": 25,
     "metadata": {},
     "output_type": "execute_result"
    }
   ],
   "source": [
    "# Create Series objects for mean mileages and mean prices sorted in descending order\n",
    "mean_mileage = pd.Series(brand_mean_mileages).sort_values(ascending=False)\n",
    "mean_price = pd.Series(brand_mean_prices).sort_values(ascending=False)\n",
    "\n",
    "# Create a DataFrame to combine mean prices and mean mileages for top brands\n",
    "top_brand_info = pd.DataFrame(mean_price, columns=['mean_price'])\n",
    "top_brand_info['mean_mileage'] = mean_mileage\n",
    "top_brand_info"
   ]
  },
  {
   "cell_type": "markdown",
   "metadata": {},
   "source": [
    "We can see that car mileages don't vary as much as prices. Moreover, we can see that the more expensive brands generally tend to have a relatively higher mileage with the only exception being `Opel`."
   ]
  },
  {
   "cell_type": "markdown",
   "metadata": {},
   "source": [
    "## 10. Additional Data Cleaning Steps"
   ]
  },
  {
   "cell_type": "markdown",
   "metadata": {},
   "source": [
    "Let's further clean up the data! To do this, we'll first identify the categorical data that uses `German` words, then we'll translate and map all the values to their `English` counterparts."
   ]
  },
  {
   "cell_type": "code",
   "execution_count": 26,
   "metadata": {
    "scrolled": true
   },
   "outputs": [
    {
     "name": "stdout",
     "output_type": "stream",
     "text": [
      "gearbox\n",
      "manuell      34715\n",
      "automatik     9856\n",
      "Name: count, dtype: int64\n",
      "\n",
      "unrepaired_damage\n",
      "nein    33834\n",
      "ja       4540\n",
      "Name: count, dtype: int64\n",
      "\n",
      "fuel_type\n",
      "benzin     28540\n",
      "diesel     14032\n",
      "lpg          649\n",
      "cng           71\n",
      "hybrid        37\n",
      "elektro       19\n",
      "andere        15\n",
      "Name: count, dtype: int64\n",
      "\n",
      "vehicle_type\n",
      "limousine     12598\n",
      "kleinwagen    10585\n",
      "kombi          8930\n",
      "bus            4031\n",
      "cabrio         3016\n",
      "coupe          2462\n",
      "suv            1965\n",
      "andere          390\n",
      "Name: count, dtype: int64\n"
     ]
    }
   ],
   "source": [
    "# Print value counts for the 'gearbox', 'unrepaired_damage', 'fuel_type', and 'vehicle_type' columns\n",
    "print(autos['gearbox'].value_counts())\n",
    "print()\n",
    "print(autos['unrepaired_damage'].value_counts())\n",
    "print()\n",
    "print(autos['fuel_type'].value_counts())\n",
    "print()\n",
    "print(autos['vehicle_type'].value_counts())"
   ]
  },
  {
   "cell_type": "code",
   "execution_count": 27,
   "metadata": {},
   "outputs": [
    {
     "data": {
      "text/html": [
       "<div>\n",
       "<style scoped>\n",
       "    .dataframe tbody tr th:only-of-type {\n",
       "        vertical-align: middle;\n",
       "    }\n",
       "\n",
       "    .dataframe tbody tr th {\n",
       "        vertical-align: top;\n",
       "    }\n",
       "\n",
       "    .dataframe thead th {\n",
       "        text-align: right;\n",
       "    }\n",
       "</style>\n",
       "<table border=\"1\" class=\"dataframe\">\n",
       "  <thead>\n",
       "    <tr style=\"text-align: right;\">\n",
       "      <th></th>\n",
       "      <th>date_crawled</th>\n",
       "      <th>name</th>\n",
       "      <th>price</th>\n",
       "      <th>ab_test</th>\n",
       "      <th>vehicle_type</th>\n",
       "      <th>registration_year</th>\n",
       "      <th>gearbox</th>\n",
       "      <th>power_ps</th>\n",
       "      <th>model</th>\n",
       "      <th>odometer_km</th>\n",
       "      <th>registration_month</th>\n",
       "      <th>fuel_type</th>\n",
       "      <th>brand</th>\n",
       "      <th>unrepaired_damage</th>\n",
       "      <th>date_created</th>\n",
       "      <th>postal_code</th>\n",
       "      <th>last_seen</th>\n",
       "    </tr>\n",
       "  </thead>\n",
       "  <tbody>\n",
       "    <tr>\n",
       "      <th>0</th>\n",
       "      <td>2016-03-26 17:47:46</td>\n",
       "      <td>Peugeot_807_160_NAVTECH_ON_BOARD</td>\n",
       "      <td>5000</td>\n",
       "      <td>control</td>\n",
       "      <td>bus</td>\n",
       "      <td>2004</td>\n",
       "      <td>manual</td>\n",
       "      <td>158</td>\n",
       "      <td>other</td>\n",
       "      <td>150000</td>\n",
       "      <td>3</td>\n",
       "      <td>lpg</td>\n",
       "      <td>peugeot</td>\n",
       "      <td>no</td>\n",
       "      <td>2016-03-26 00:00:00</td>\n",
       "      <td>79588</td>\n",
       "      <td>2016-04-06 06:45:54</td>\n",
       "    </tr>\n",
       "    <tr>\n",
       "      <th>1</th>\n",
       "      <td>2016-04-04 13:38:56</td>\n",
       "      <td>BMW_740i_4_4_Liter_HAMANN_UMBAU_Mega_Optik</td>\n",
       "      <td>8500</td>\n",
       "      <td>control</td>\n",
       "      <td>sedan</td>\n",
       "      <td>1997</td>\n",
       "      <td>automatic</td>\n",
       "      <td>286</td>\n",
       "      <td>7er</td>\n",
       "      <td>150000</td>\n",
       "      <td>6</td>\n",
       "      <td>gasoline</td>\n",
       "      <td>bmw</td>\n",
       "      <td>no</td>\n",
       "      <td>2016-04-04 00:00:00</td>\n",
       "      <td>71034</td>\n",
       "      <td>2016-04-06 14:45:08</td>\n",
       "    </tr>\n",
       "    <tr>\n",
       "      <th>2</th>\n",
       "      <td>2016-03-26 18:57:24</td>\n",
       "      <td>Volkswagen_Golf_1.6_United</td>\n",
       "      <td>8990</td>\n",
       "      <td>test</td>\n",
       "      <td>sedan</td>\n",
       "      <td>2009</td>\n",
       "      <td>manual</td>\n",
       "      <td>102</td>\n",
       "      <td>golf</td>\n",
       "      <td>70000</td>\n",
       "      <td>7</td>\n",
       "      <td>gasoline</td>\n",
       "      <td>volkswagen</td>\n",
       "      <td>no</td>\n",
       "      <td>2016-03-26 00:00:00</td>\n",
       "      <td>35394</td>\n",
       "      <td>2016-04-06 20:15:37</td>\n",
       "    </tr>\n",
       "    <tr>\n",
       "      <th>3</th>\n",
       "      <td>2016-03-12 16:58:10</td>\n",
       "      <td>Smart_smart_fortwo_coupe_softouch/F1/Klima/Pan...</td>\n",
       "      <td>4350</td>\n",
       "      <td>control</td>\n",
       "      <td>small car</td>\n",
       "      <td>2007</td>\n",
       "      <td>automatic</td>\n",
       "      <td>71</td>\n",
       "      <td>fortwo</td>\n",
       "      <td>70000</td>\n",
       "      <td>6</td>\n",
       "      <td>gasoline</td>\n",
       "      <td>smart</td>\n",
       "      <td>no</td>\n",
       "      <td>2016-03-12 00:00:00</td>\n",
       "      <td>33729</td>\n",
       "      <td>2016-03-15 03:16:28</td>\n",
       "    </tr>\n",
       "    <tr>\n",
       "      <th>4</th>\n",
       "      <td>2016-04-01 14:38:50</td>\n",
       "      <td>Ford_Focus_1_6_Benzin_TÜV_neu_ist_sehr_gepfleg...</td>\n",
       "      <td>1350</td>\n",
       "      <td>test</td>\n",
       "      <td>station wagon</td>\n",
       "      <td>2003</td>\n",
       "      <td>manual</td>\n",
       "      <td>0</td>\n",
       "      <td>focus</td>\n",
       "      <td>150000</td>\n",
       "      <td>7</td>\n",
       "      <td>gasoline</td>\n",
       "      <td>ford</td>\n",
       "      <td>no</td>\n",
       "      <td>2016-04-01 00:00:00</td>\n",
       "      <td>39218</td>\n",
       "      <td>2016-04-01 14:38:50</td>\n",
       "    </tr>\n",
       "  </tbody>\n",
       "</table>\n",
       "</div>"
      ],
      "text/plain": [
       "          date_crawled                                               name  \\\n",
       "0  2016-03-26 17:47:46                   Peugeot_807_160_NAVTECH_ON_BOARD   \n",
       "1  2016-04-04 13:38:56         BMW_740i_4_4_Liter_HAMANN_UMBAU_Mega_Optik   \n",
       "2  2016-03-26 18:57:24                         Volkswagen_Golf_1.6_United   \n",
       "3  2016-03-12 16:58:10  Smart_smart_fortwo_coupe_softouch/F1/Klima/Pan...   \n",
       "4  2016-04-01 14:38:50  Ford_Focus_1_6_Benzin_TÜV_neu_ist_sehr_gepfleg...   \n",
       "\n",
       "   price  ab_test   vehicle_type  registration_year    gearbox  power_ps  \\\n",
       "0   5000  control            bus               2004     manual       158   \n",
       "1   8500  control          sedan               1997  automatic       286   \n",
       "2   8990     test          sedan               2009     manual       102   \n",
       "3   4350  control      small car               2007  automatic        71   \n",
       "4   1350     test  station wagon               2003     manual         0   \n",
       "\n",
       "    model  odometer_km  registration_month fuel_type       brand  \\\n",
       "0   other       150000                   3       lpg     peugeot   \n",
       "1     7er       150000                   6  gasoline         bmw   \n",
       "2    golf        70000                   7  gasoline  volkswagen   \n",
       "3  fortwo        70000                   6  gasoline       smart   \n",
       "4   focus       150000                   7  gasoline        ford   \n",
       "\n",
       "  unrepaired_damage         date_created  postal_code            last_seen  \n",
       "0                no  2016-03-26 00:00:00        79588  2016-04-06 06:45:54  \n",
       "1                no  2016-04-04 00:00:00        71034  2016-04-06 14:45:08  \n",
       "2                no  2016-03-26 00:00:00        35394  2016-04-06 20:15:37  \n",
       "3                no  2016-03-12 00:00:00        33729  2016-03-15 03:16:28  \n",
       "4                no  2016-04-01 00:00:00        39218  2016-04-01 14:38:50  "
      ]
     },
     "execution_count": 27,
     "metadata": {},
     "output_type": "execute_result"
    }
   ],
   "source": [
    "# Define mappings for translating German words to English\n",
    "gearbox = {'manuell': 'manual', 'automatik': 'automatic'}\n",
    "unrepaired_damage = {'nein': 'no', 'ja': 'yes'}\n",
    "\n",
    "# Map the German words to English in the 'gearbox' and 'unrepaired_damage' columns\n",
    "autos['gearbox'] = autos['gearbox'].map(gearbox)\n",
    "autos['unrepaired_damage'] = autos['unrepaired_damage'].map(unrepaired_damage)\n",
    "\n",
    "# Replace German fuel types with English equivalents\n",
    "autos['fuel_type'] = autos['fuel_type'].replace(['benzin', 'elektro', 'andere'],\n",
    "                                                ['gasoline', 'electric', 'other'])\n",
    "\n",
    "# Replace German vehicle types with English equivalents\n",
    "autos['vehicle_type'] = autos['vehicle_type'].replace(['limousine', 'kleinwagen', 'kombi', 'cabrio', 'andere'],\n",
    "                                                      ['sedan', 'small car', 'station wagon', 'convertible', 'other'])\n",
    "\n",
    "# Replace 'andere' (German for 'other') in the 'model' column with 'other'\n",
    "autos['model'] = autos['model'].str.replace('andere', 'other')\n",
    "\n",
    "# Display the first few rows of the modified DataFrame\n",
    "autos.head()"
   ]
  },
  {
   "cell_type": "markdown",
   "metadata": {},
   "source": [
    "Now, let's investigate whether there is a price difference between previously damaged cars and non-damaged ones."
   ]
  },
  {
   "cell_type": "code",
   "execution_count": 28,
   "metadata": {},
   "outputs": [
    {
     "data": {
      "text/plain": [
       "{'no': 7164, 'yes': 2241}"
      ]
     },
     "execution_count": 28,
     "metadata": {},
     "output_type": "execute_result"
    }
   ],
   "source": [
    "# Define a list of values for 'unrepaired_damage'\n",
    "damage_status = ['no', 'yes']\n",
    "\n",
    "# Store the mean prices for damaged and non-damaged cars\n",
    "mean_price_by_status = {}\n",
    "\n",
    "# Calculate the mean price for cars with and without unrepaired damage\n",
    "for i in damage_status:\n",
    "    current_status = autos[autos['unrepaired_damage'] == i]\n",
    "    mean_price = current_status['price'].mean()\n",
    "    mean_price_by_status[i] = round(mean_price)\n",
    "\n",
    "# Display the mean prices for damaged and non-damaged cars\n",
    "mean_price_by_status"
   ]
  },
  {
   "cell_type": "markdown",
   "metadata": {},
   "source": [
    "Expectedly, we can see that cars that have been previously damaged are considerably cheaper than those with no damage."
   ]
  },
  {
   "cell_type": "markdown",
   "metadata": {},
   "source": [
    "## 11. Conclusion"
   ]
  },
  {
   "cell_type": "markdown",
   "metadata": {},
   "source": [
    "To recap, we worked with a modified dataset of used car listings from **eBay Kleinanzeigen**. Our primary modifications involved converting and rewording column names, cleaning and converting columns storing numeric values as text, removing columns with highly similar values or irrelevant information, and removing outliers with unrealistically high or low values.\n",
    "\n",
    "To understand the date range of our data, we extracted date values and visualized their distribution using a grid chart. Our analysis reveals that most car listings were created around the same period as the crawling dates, indicating that ads were likely posted either before or during the crawling process.\n",
    "\n",
    "The dataset primarily consists of cars registered within the last `2` decades, with German manufacturers making up the top `5` brands, and representing nearly `60%` of the total car listings. Moreover, analyzing the top `6` brands reveals a significant price variation, with some brands typically priced higher, lower, or somewhere in the middle compared to their counterparts. Despite the price differences, the top brands share higher odometer readings, and mileage remains relatively consistent across them.\n",
    "\n",
    "Additionally, we identified categorical data using `German` words, then translated and mapped all values to their `English` equivalents. The data highlights a notable price difference between cars with and without prior damage, with damaged vehicles being significantly cheaper, underscoring the impact of vehicle condition on pricing."
   ]
  }
 ],
 "metadata": {
  "kernelspec": {
   "display_name": "Python 3 (ipykernel)",
   "language": "python",
   "name": "python3"
  },
  "language_info": {
   "codemirror_mode": {
    "name": "ipython",
    "version": 3
   },
   "file_extension": ".py",
   "mimetype": "text/x-python",
   "name": "python",
   "nbconvert_exporter": "python",
   "pygments_lexer": "ipython3",
   "version": "3.11.5"
  }
 },
 "nbformat": 4,
 "nbformat_minor": 2
}
