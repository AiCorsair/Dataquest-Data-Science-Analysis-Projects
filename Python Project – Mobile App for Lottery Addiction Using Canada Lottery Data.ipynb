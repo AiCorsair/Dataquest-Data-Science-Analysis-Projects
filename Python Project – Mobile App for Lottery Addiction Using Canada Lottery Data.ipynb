{
 "cells": [
  {
   "cell_type": "markdown",
   "id": "b524ae58",
   "metadata": {},
   "source": [
    "# Canada Lottery Insights – A Mobile App for Lottery Addiction"
   ]
  },
  {
   "cell_type": "markdown",
   "id": "82113fae",
   "metadata": {},
   "source": [
    "## 1. Introduction"
   ]
  },
  {
   "cell_type": "markdown",
   "id": "a835de57",
   "metadata": {},
   "source": [
    "Many people start playing the lottery for fun, but for some, this activity turns into a habit that eventually escalates into an addiction. Like other compulsive gamblers, lottery addicts may begin dipping into their savings and loans, accumulating debts, and even engaging in desperate behaviors such as theft.\n",
    "\n",
    "A medical institute focused on preventing and treating gambling addictions plans to build a dedicated mobile app to help lottery addicts better understand their chances of winning. The institute has a team of engineers to develop the app, but they need us to create its logical core and calculate the necessary probabilities.\n",
    "\n",
    "For the first version of the app, they want us to focus on the [6/49 lottery](https://en.wikipedia.org/wiki/Lotto_6/49) and develop functions that allow users to answer questions such as:\n",
    "- What is the probability of winning the big prize with a single ticket?\n",
    "- What is the probability of winning the big prize if we play `40` different tickets (or any other number)?\n",
    "- What is the probability of having at least `5` (or `4`, or `3`, or `2`) winning numbers on a single ticket?\n",
    "\n",
    "The institute also wants us to incorporate historical data from the national 6/49 lottery game in Canada. The [dataset](https://www.kaggle.com/datasets/datascienceai/lottery-dataset) we'll use contains information on `3,665` drawings, dating from `1982` to `2018`."
   ]
  },
  {
   "cell_type": "markdown",
   "id": "c2dadcdf",
   "metadata": {},
   "source": [
    "## 2. Building the Core Functions"
   ]
  },
  {
   "cell_type": "markdown",
   "id": "12b27d0c",
   "metadata": {},
   "source": [
    "In the 6/49 lottery, `6` numbers are drawn from a set of `49`, ranging from `1` to `49`. The drawing is done without replacement, meaning once a number is drawn, it's not returned to the set.\n",
    "\n",
    "First, we'll define two functions that we will use frequently:\n",
    "- `factorial()` – a function that calculates factorials.\n",
    "- `combinations()` – a function that calculates combinations."
   ]
  },
  {
   "cell_type": "code",
   "execution_count": 1,
   "id": "98115a5c",
   "metadata": {},
   "outputs": [],
   "source": [
    "# Function to calculate the factorial of a given number 'n'\n",
    "def factorial(n):\n",
    "    final_product = 1\n",
    "    for i in range(n, 0, -1):\n",
    "        final_product *= i\n",
    "    return final_product\n",
    "\n",
    "# Function to calculate the number of combinations (n choose k)\n",
    "def combinations(n, k):\n",
    "    numerator = factorial(n)\n",
    "    denominator = factorial(k) * factorial(n - k)\n",
    "    return numerator / denominator"
   ]
  },
  {
   "cell_type": "markdown",
   "id": "89ab002f",
   "metadata": {},
   "source": [
    "## 3. Calculating the Probability for a Single Lottery Ticket"
   ]
  },
  {
   "cell_type": "markdown",
   "id": "ba331c35",
   "metadata": {},
   "source": [
    "In the 6/49 lottery, a player wins the big prize if all six numbers on their ticket match the six numbers drawn. If even one number differs, the player doesn't win.\n",
    "\n",
    "For the first version of the app, we want players to be able to calculate the probability of winning the big prize based on the numbers they play on a single ticket, where each ticket consists of `6` numbers chosen out of `49`. To achieve this, we'll start by building a function that calculates the probability of winning the big prize for any given ticket.\n",
    "\n",
    "We discussed the requirements with the engineering team from the medical institute, and they informed us of a few details to keep in mind when writing the function:\n",
    "- In the app, the user will input `6` different numbers from `1` to `49`.\n",
    "- Behind the scenes, these six numbers will be passed as a Python list, which will be the sole input to our function.\n",
    "- The engineering team wants the function to display the probability in a user-friendly format, making it easy for people without a background in probability to understand."
   ]
  },
  {
   "cell_type": "code",
   "execution_count": 2,
   "id": "4f3dc8e9",
   "metadata": {},
   "outputs": [],
   "source": [
    "# Function to calculate the probability of winning the big prize with a single lottery ticket\n",
    "def single_ticket_prob(user_numbers):\n",
    "    \n",
    "    # Calculate the total number of possible combinations in 6/49 lottery\n",
    "    n_combinations = combinations(49, 6)\n",
    "    \n",
    "    # Calculate the probability of winning with a single ticket, and convert it into percentage form\n",
    "    single_ticket_p = 1 / n_combinations\n",
    "    percentage_form = single_ticket_p * 100\n",
    "    \n",
    "    # Print the result in a user-friendly format\n",
    "    print('''Your chances of winning the big prize with the numbers {} are {:.7f}%.\n",
    "In other words, you have a 1 in {:,} chance of winning.'''.format(user_numbers, percentage_form,\n",
    "                                                               int(n_combinations)))"
   ]
  },
  {
   "cell_type": "markdown",
   "id": "0dced595",
   "metadata": {},
   "source": [
    "Next, we're going to test the `single_ticket_prob` function using two different inputs."
   ]
  },
  {
   "cell_type": "code",
   "execution_count": 3,
   "id": "5e9b4750",
   "metadata": {},
   "outputs": [
    {
     "name": "stdout",
     "output_type": "stream",
     "text": [
      "Your chances of winning the big prize with the numbers [2, 43, 22, 23, 11, 5] are 0.0000072%.\n",
      "In other words, you have a 1 in 13,983,816 chance of winning.\n"
     ]
    }
   ],
   "source": [
    "# Calculate the probability of winning the lottery with the defined test input using one ticket\n",
    "test_input_1 = [2, 43, 22, 23, 11, 5]\n",
    "single_ticket_prob(test_input_1)"
   ]
  },
  {
   "cell_type": "code",
   "execution_count": 4,
   "id": "719e57f1",
   "metadata": {},
   "outputs": [
    {
     "name": "stdout",
     "output_type": "stream",
     "text": [
      "Your chances of winning the big prize with the numbers [9, 26, 41, 7, 15, 6] are 0.0000072%.\n",
      "In other words, you have a 1 in 13,983,816 chance of winning.\n"
     ]
    }
   ],
   "source": [
    "# Calculate the probability of winning the lottery with the defined test input using one ticket\n",
    "test_input_2 = [9, 26, 41, 7, 15, 6]\n",
    "single_ticket_prob(test_input_2)"
   ]
  },
  {
   "cell_type": "markdown",
   "id": "86aa2127",
   "metadata": {},
   "source": [
    "## 4. Using Historical Data from the Canada Lottery"
   ]
  },
  {
   "cell_type": "markdown",
   "id": "76d65ef8",
   "metadata": {},
   "source": [
    "For the first version of the app, users should also be able to compare their tickets against historical lottery data to determine whether they would have ever won by now. We'll focus on exploring the historical data from the Canada 6/49 lottery using a clean dataset that can be downloaded from [Kaggle](https://www.kaggle.com/datasets/datascienceai/lottery-dataset)."
   ]
  },
  {
   "cell_type": "code",
   "execution_count": 5,
   "id": "59560b26",
   "metadata": {
    "scrolled": false
   },
   "outputs": [
    {
     "name": "stdout",
     "output_type": "stream",
     "text": [
      "(3665, 11)\n"
     ]
    },
    {
     "data": {
      "text/html": [
       "<div>\n",
       "<style scoped>\n",
       "    .dataframe tbody tr th:only-of-type {\n",
       "        vertical-align: middle;\n",
       "    }\n",
       "\n",
       "    .dataframe tbody tr th {\n",
       "        vertical-align: top;\n",
       "    }\n",
       "\n",
       "    .dataframe thead th {\n",
       "        text-align: right;\n",
       "    }\n",
       "</style>\n",
       "<table border=\"1\" class=\"dataframe\">\n",
       "  <thead>\n",
       "    <tr style=\"text-align: right;\">\n",
       "      <th></th>\n",
       "      <th>PRODUCT</th>\n",
       "      <th>DRAW NUMBER</th>\n",
       "      <th>SEQUENCE NUMBER</th>\n",
       "      <th>DRAW DATE</th>\n",
       "      <th>NUMBER DRAWN 1</th>\n",
       "      <th>NUMBER DRAWN 2</th>\n",
       "      <th>NUMBER DRAWN 3</th>\n",
       "      <th>NUMBER DRAWN 4</th>\n",
       "      <th>NUMBER DRAWN 5</th>\n",
       "      <th>NUMBER DRAWN 6</th>\n",
       "      <th>BONUS NUMBER</th>\n",
       "    </tr>\n",
       "  </thead>\n",
       "  <tbody>\n",
       "    <tr>\n",
       "      <th>0</th>\n",
       "      <td>649</td>\n",
       "      <td>1</td>\n",
       "      <td>0</td>\n",
       "      <td>6/12/1982</td>\n",
       "      <td>3</td>\n",
       "      <td>11</td>\n",
       "      <td>12</td>\n",
       "      <td>14</td>\n",
       "      <td>41</td>\n",
       "      <td>43</td>\n",
       "      <td>13</td>\n",
       "    </tr>\n",
       "    <tr>\n",
       "      <th>1</th>\n",
       "      <td>649</td>\n",
       "      <td>2</td>\n",
       "      <td>0</td>\n",
       "      <td>6/19/1982</td>\n",
       "      <td>8</td>\n",
       "      <td>33</td>\n",
       "      <td>36</td>\n",
       "      <td>37</td>\n",
       "      <td>39</td>\n",
       "      <td>41</td>\n",
       "      <td>9</td>\n",
       "    </tr>\n",
       "    <tr>\n",
       "      <th>2</th>\n",
       "      <td>649</td>\n",
       "      <td>3</td>\n",
       "      <td>0</td>\n",
       "      <td>6/26/1982</td>\n",
       "      <td>1</td>\n",
       "      <td>6</td>\n",
       "      <td>23</td>\n",
       "      <td>24</td>\n",
       "      <td>27</td>\n",
       "      <td>39</td>\n",
       "      <td>34</td>\n",
       "    </tr>\n",
       "  </tbody>\n",
       "</table>\n",
       "</div>"
      ],
      "text/plain": [
       "   PRODUCT  DRAW NUMBER  SEQUENCE NUMBER  DRAW DATE  NUMBER DRAWN 1  \\\n",
       "0      649            1                0  6/12/1982               3   \n",
       "1      649            2                0  6/19/1982               8   \n",
       "2      649            3                0  6/26/1982               1   \n",
       "\n",
       "   NUMBER DRAWN 2  NUMBER DRAWN 3  NUMBER DRAWN 4  NUMBER DRAWN 5  \\\n",
       "0              11              12              14              41   \n",
       "1              33              36              37              39   \n",
       "2               6              23              24              27   \n",
       "\n",
       "   NUMBER DRAWN 6  BONUS NUMBER  \n",
       "0              43            13  \n",
       "1              41             9  \n",
       "2              39            34  "
      ]
     },
     "metadata": {},
     "output_type": "display_data"
    },
    {
     "data": {
      "text/html": [
       "<div>\n",
       "<style scoped>\n",
       "    .dataframe tbody tr th:only-of-type {\n",
       "        vertical-align: middle;\n",
       "    }\n",
       "\n",
       "    .dataframe tbody tr th {\n",
       "        vertical-align: top;\n",
       "    }\n",
       "\n",
       "    .dataframe thead th {\n",
       "        text-align: right;\n",
       "    }\n",
       "</style>\n",
       "<table border=\"1\" class=\"dataframe\">\n",
       "  <thead>\n",
       "    <tr style=\"text-align: right;\">\n",
       "      <th></th>\n",
       "      <th>PRODUCT</th>\n",
       "      <th>DRAW NUMBER</th>\n",
       "      <th>SEQUENCE NUMBER</th>\n",
       "      <th>DRAW DATE</th>\n",
       "      <th>NUMBER DRAWN 1</th>\n",
       "      <th>NUMBER DRAWN 2</th>\n",
       "      <th>NUMBER DRAWN 3</th>\n",
       "      <th>NUMBER DRAWN 4</th>\n",
       "      <th>NUMBER DRAWN 5</th>\n",
       "      <th>NUMBER DRAWN 6</th>\n",
       "      <th>BONUS NUMBER</th>\n",
       "    </tr>\n",
       "  </thead>\n",
       "  <tbody>\n",
       "    <tr>\n",
       "      <th>3662</th>\n",
       "      <td>649</td>\n",
       "      <td>3589</td>\n",
       "      <td>0</td>\n",
       "      <td>6/13/2018</td>\n",
       "      <td>6</td>\n",
       "      <td>22</td>\n",
       "      <td>24</td>\n",
       "      <td>31</td>\n",
       "      <td>32</td>\n",
       "      <td>34</td>\n",
       "      <td>16</td>\n",
       "    </tr>\n",
       "    <tr>\n",
       "      <th>3663</th>\n",
       "      <td>649</td>\n",
       "      <td>3590</td>\n",
       "      <td>0</td>\n",
       "      <td>6/16/2018</td>\n",
       "      <td>2</td>\n",
       "      <td>15</td>\n",
       "      <td>21</td>\n",
       "      <td>31</td>\n",
       "      <td>38</td>\n",
       "      <td>49</td>\n",
       "      <td>8</td>\n",
       "    </tr>\n",
       "    <tr>\n",
       "      <th>3664</th>\n",
       "      <td>649</td>\n",
       "      <td>3591</td>\n",
       "      <td>0</td>\n",
       "      <td>6/20/2018</td>\n",
       "      <td>14</td>\n",
       "      <td>24</td>\n",
       "      <td>31</td>\n",
       "      <td>35</td>\n",
       "      <td>37</td>\n",
       "      <td>48</td>\n",
       "      <td>17</td>\n",
       "    </tr>\n",
       "  </tbody>\n",
       "</table>\n",
       "</div>"
      ],
      "text/plain": [
       "      PRODUCT  DRAW NUMBER  SEQUENCE NUMBER  DRAW DATE  NUMBER DRAWN 1  \\\n",
       "3662      649         3589                0  6/13/2018               6   \n",
       "3663      649         3590                0  6/16/2018               2   \n",
       "3664      649         3591                0  6/20/2018              14   \n",
       "\n",
       "      NUMBER DRAWN 2  NUMBER DRAWN 3  NUMBER DRAWN 4  NUMBER DRAWN 5  \\\n",
       "3662              22              24              31              32   \n",
       "3663              15              21              31              38   \n",
       "3664              24              31              35              37   \n",
       "\n",
       "      NUMBER DRAWN 6  BONUS NUMBER  \n",
       "3662              34            16  \n",
       "3663              49             8  \n",
       "3664              48            17  "
      ]
     },
     "metadata": {},
     "output_type": "display_data"
    }
   ],
   "source": [
    "# Import the relevant libraries\n",
    "import pandas as pd\n",
    "\n",
    "# Load the Canada lottery dataset and print its dimensions\n",
    "lottery_canada = pd.read_csv('Datasets/649.csv')\n",
    "print(lottery_canada.shape)\n",
    "\n",
    "# Display the first and last 3 rows of the dataset\n",
    "display(lottery_canada.head(3))\n",
    "display(lottery_canada.tail(3))"
   ]
  },
  {
   "cell_type": "markdown",
   "id": "43764fea",
   "metadata": {},
   "source": [
    "The dataset contains `3,665` entries with `11` columns. Each row represents a lottery drawing, including the draw date and the six main drawn numbers along with a bonus number. Moreover, the earliest draw is from `June 12, 1982`, and the most recent is from `June 20, 2018`. The data structure allows for analysis of winning patterns and historical performance in the Canada 6/49 lottery."
   ]
  },
  {
   "cell_type": "markdown",
   "id": "83510c32",
   "metadata": {},
   "source": [
    "## 5. Comparing User Tickets to Historical Data"
   ]
  },
  {
   "cell_type": "markdown",
   "id": "078c1aaa",
   "metadata": {},
   "source": [
    "Next, we're going to write a function that will enable users to compare their tickets against the historical lottery data in Canada and determine whether they would have ever won by now. The engineering team informed us that we need to be aware of the following details:\n",
    "\n",
    "- Inside the app, the user inputs `6` different numbers from `1` to `49`.\n",
    "- Under the hood, the six numbers will come as a Python list and serve as input to our function.\n",
    "- The engineering team wants us to write a function that prints the number of times the selected combination occurred in the Canada lottery dataset, as well as the probability of winning the big prize in the next drawing with that combination."
   ]
  },
  {
   "cell_type": "code",
   "execution_count": 6,
   "id": "c44b248f",
   "metadata": {},
   "outputs": [
    {
     "data": {
      "text/plain": [
       "0    {3, 41, 11, 12, 43, 14}\n",
       "1    {33, 36, 37, 39, 8, 41}\n",
       "2     {1, 6, 39, 23, 24, 27}\n",
       "3     {3, 9, 10, 43, 13, 20}\n",
       "4    {34, 5, 14, 47, 21, 31}\n",
       "dtype: object"
      ]
     },
     "execution_count": 6,
     "metadata": {},
     "output_type": "execute_result"
    }
   ],
   "source": [
    "# Define a function to extract winning numbers from a row of the dataset\n",
    "def winning_numbers(row):\n",
    "    \n",
    "    # Extract the winning numbers from columns 4 to 9 (inclusive)\n",
    "    row = row[4:10]\n",
    "    # Convert the winning numbers to a set to ensure uniqueness\n",
    "    row_set = set(row.values)\n",
    "    return row_set\n",
    "\n",
    "# Apply the function to each row of the dataset to get winning numbers\n",
    "winning_nums = lottery_canada.apply(winning_numbers, axis=1)\n",
    "winning_nums.head()"
   ]
  },
  {
   "cell_type": "markdown",
   "id": "5b36767c",
   "metadata": {},
   "source": [
    "Now, we'll write a function that takes the user numbers and the historical numbers as input, then prints information regarding the number of occurrences and the probability of winning in the next drawing."
   ]
  },
  {
   "cell_type": "code",
   "execution_count": 7,
   "id": "f5cb8d78",
   "metadata": {},
   "outputs": [],
   "source": [
    "# Define a function to check the historical occurrence of user-provided lottery numbers\n",
    "def check_occurrence(user_numbers, historical_numbers):\n",
    "\n",
    "    # Convert user numbers to a set and count how often they occur in the historical data\n",
    "    user_numbers_set = set(user_numbers)\n",
    "    n_occurrences = (historical_numbers == user_numbers_set).sum()\n",
    "    \n",
    "    # Check if the combination has never occurred\n",
    "    if n_occurrences == 0:\n",
    "        print('''The combination {} has never occurred.\n",
    "This doesn't mean it's more likely to occur in the next drawing.\n",
    "Your chances of winning the big prize in the next drawing using the same combination are 0.0000072%.\n",
    "In other words, you have a 1 in 13,983,816 chance of winning.'''.format(user_numbers_set))\n",
    "    \n",
    "    # If the combination has occurred, display the number of occurrences \n",
    "    # and the probability of winning in the next drawing\n",
    "    else:\n",
    "        print('''The number of times the combination {} has occurred in the past is {}.\n",
    "Your chances of winning the big prize in the next drawing using the same combination are 0.0000072%.\n",
    "In other words, you have a 1 in 13,983,816 chance of winning.'''.format(user_numbers_set, n_occurrences))"
   ]
  },
  {
   "cell_type": "markdown",
   "id": "86952c5a",
   "metadata": {},
   "source": [
    "Let's now test the `check_occurrence` function using two different inputs."
   ]
  },
  {
   "cell_type": "code",
   "execution_count": 8,
   "id": "6da9b685",
   "metadata": {},
   "outputs": [
    {
     "name": "stdout",
     "output_type": "stream",
     "text": [
      "The number of times the combination {33, 36, 37, 39, 8, 41} has occurred in the past is 1.\n",
      "Your chances of winning the big prize in the next drawing using the same combination are 0.0000072%.\n",
      "In other words, you have a 1 in 13,983,816 chance of winning.\n"
     ]
    }
   ],
   "source": [
    "# Check the historical occurrence of the defined test input combination in winning numbers\n",
    "test_input_3 = [33, 36, 37, 39, 8, 41]\n",
    "check_occurrence(test_input_3, winning_nums)"
   ]
  },
  {
   "cell_type": "code",
   "execution_count": 9,
   "id": "fdcdb6aa",
   "metadata": {},
   "outputs": [
    {
     "name": "stdout",
     "output_type": "stream",
     "text": [
      "The combination {1, 2, 3, 44, 22} has never occurred.\n",
      "This doesn't mean it's more likely to occur in the next drawing.\n",
      "Your chances of winning the big prize in the next drawing using the same combination are 0.0000072%.\n",
      "In other words, you have a 1 in 13,983,816 chance of winning.\n"
     ]
    }
   ],
   "source": [
    "# Check the historical occurrence of the defined test input combination in winning numbers\n",
    "test_input_4 = [3, 2, 44, 22, 1, 44]\n",
    "check_occurrence(test_input_4, winning_nums)"
   ]
  },
  {
   "cell_type": "markdown",
   "id": "ad6d45d9",
   "metadata": {},
   "source": [
    "## 6. Calculating the Probability for Multiple Lottery Tickets"
   ]
  },
  {
   "cell_type": "markdown",
   "id": "9f76c766",
   "metadata": {},
   "source": [
    "Lottery addicts often play multiple tickets in a single drawing, believing this will significantly increase their chances of winning. Since our goal is to help them better understand their actual odds, we'll write a function that allows users to calculate their chances of winning based on the number of different tickets they play.\n",
    "\n",
    "We consulted with the engineering team, and they provided the following details:\n",
    "- Users will input the number of tickets they plan to play, without specifying the exact combinations.\n",
    "- The input will be an integer between `1` and `13,983,816`. The latter represents the maximum number of different possible tickets.\n",
    "- The function should print the probability of winning the big prize based on the number of tickets played."
   ]
  },
  {
   "cell_type": "code",
   "execution_count": 10,
   "id": "5344e655",
   "metadata": {},
   "outputs": [],
   "source": [
    "# Define a function to calculate the probability of winning with one or more tickets\n",
    "def multi_ticket_prob(n_tickets):\n",
    "    \n",
    "    # Calculate the total number of possible combinations in 6/49 lottery\n",
    "    n_combinations = combinations(49, 6)\n",
    "    \n",
    "    # Calculate the probability based on the number of tickets played\n",
    "    multi_ticket_p = n_tickets / n_combinations\n",
    "    percentage_form = multi_ticket_p * 100\n",
    "    \n",
    "    # Display probability for one ticket\n",
    "    if n_tickets == 1:\n",
    "        print('''Your chances of winning the big prize with one ticket are {:.6f}%.\n",
    "In other words, you have a 1 in {:,} chance of winning.'''.format(percentage_form, \n",
    "                                                                  int(n_combinations)))\n",
    "    # Display probability for multiple tickets\n",
    "    else:\n",
    "        adj_n_combinations = round(n_combinations / n_tickets)\n",
    "        print('''Your chances of winning the big prize with {:,} different tickets are {:.6f}%.\n",
    "In other words, you have a 1 in {:,} chance of winning.'''.format(n_tickets, percentage_form,\n",
    "                                                                  adj_n_combinations))"
   ]
  },
  {
   "cell_type": "markdown",
   "id": "7783d314",
   "metadata": {},
   "source": [
    "Now, let's run a couple of tests for the `multi_ticket_prob` function."
   ]
  },
  {
   "cell_type": "code",
   "execution_count": 11,
   "id": "b9c629ea",
   "metadata": {
    "scrolled": false
   },
   "outputs": [
    {
     "name": "stdout",
     "output_type": "stream",
     "text": [
      "Your chances of winning the big prize with one ticket are 0.000007%.\n",
      "In other words, you have a 1 in 13,983,816 chance of winning.\n",
      "------------------------\n",
      "Your chances of winning the big prize with 10 different tickets are 0.000072%.\n",
      "In other words, you have a 1 in 1,398,382 chance of winning.\n",
      "------------------------\n",
      "Your chances of winning the big prize with 100 different tickets are 0.000715%.\n",
      "In other words, you have a 1 in 139,838 chance of winning.\n",
      "------------------------\n",
      "Your chances of winning the big prize with 10,000 different tickets are 0.071511%.\n",
      "In other words, you have a 1 in 1,398 chance of winning.\n",
      "------------------------\n",
      "Your chances of winning the big prize with 1,000,000 different tickets are 7.151124%.\n",
      "In other words, you have a 1 in 14 chance of winning.\n",
      "------------------------\n",
      "Your chances of winning the big prize with 6,991,908 different tickets are 50.000000%.\n",
      "In other words, you have a 1 in 2 chance of winning.\n",
      "------------------------\n",
      "Your chances of winning the big prize with 13,983,816 different tickets are 100.000000%.\n",
      "In other words, you have a 1 in 1 chance of winning.\n",
      "------------------------\n"
     ]
    }
   ],
   "source": [
    "# Store different ticket counts to test\n",
    "test_inputs = [1, 10, 100, 10000, 1000000, 6991908, 13983816]\n",
    "\n",
    "# Loop through each test input and calculate the probability\n",
    "for t_input in test_inputs:\n",
    "    multi_ticket_prob(t_input)\n",
    "    print('------------------------')"
   ]
  },
  {
   "cell_type": "markdown",
   "id": "06aba648",
   "metadata": {},
   "source": [
    "## 7. Calculating the Probability of Matching Winning Numbers (2 to 5)"
   ]
  },
  {
   "cell_type": "markdown",
   "id": "d31cf41a",
   "metadata": {},
   "source": [
    "Since users might be interested in knowing the probability of matching exactly `2`, `3`, `4`, or `5` winning numbers, we'll write a function to calculate these probabilities. In most 6/49 lotteries, there are smaller prizes for matching `2`, `3`, `4`, or `5` numbers.\n",
    "\n",
    "These are the engineering details to keep in mind:\n",
    "- Users will input `6` different numbers from `1` to `49`, along with an integer between `2` and `5` representing the number of winning numbers they expect to match.\n",
    "- The function will print the probability of matching the inputted number of winning numbers.\n",
    "\n",
    "For the sake of example, let's say a player chooses the following six numbers on a ticket: `(1, 2, 3, 4, 5, 6)`. Out of these six numbers, we can form `6` five-number combinations: `(1, 2, 3, 4, 5)`, `(1, 2, 3, 4, 6)`, `(1, 2, 3, 5, 6)`, `(1, 2, 4, 5, 6)`, `(1, 3, 4, 5, 6)`, `(2, 3, 4, 5, 6)`. For each of these combinations, there are `44` possible successful outcomes in a lottery drawing. For instance, there are `44` lottery outcomes that would return a prize for the combination `(1, 2, 3, 4, 5)`.\n",
    "\n",
    "However, we need to leave out the outcome `(1, 2, 3, 4, 5, 6)` because we're only interested in outcomes that match exactly five numbers (not at least five numbers). This means that for each of our `6` five-number combinations, we have only `43` possible successful outcomes, not `44`.\n",
    "\n",
    "Since there are `6` five-number combinations and each combination corresponds to `43` successful outcomes, we need to multiply `6` by `43` to find the total number of successful outcomes: `6 × 43 = 258`. Furthermore, since there are `13,983,816` total possible outcomes, the probability of having exactly `5` winning numbers for a single lottery ticket is: `258 / 13,983,816 = 0.00001845`."
   ]
  },
  {
   "cell_type": "code",
   "execution_count": 12,
   "id": "325e6a9a",
   "metadata": {},
   "outputs": [],
   "source": [
    "# Define a function to calculate the probability of matching winning numbers (2 to 5)\n",
    "def winning_prob_under_6(n_winning_numbers):\n",
    "    \n",
    "    # Calculate the number of ways to choose the winning numbers from the ticket,\n",
    "    # and the remaining numbers from the non-winning pool\n",
    "    n_combinations_ticket = combinations(6, n_winning_numbers)\n",
    "    n_combinations_remaining = combinations(43, 6 - n_winning_numbers)\n",
    "    \n",
    "    # Calculate the total number of successful outcomes and possible combinations in the lottery\n",
    "    n_successful_outcomes = n_combinations_ticket * n_combinations_remaining\n",
    "    n_combinations_total = combinations(49, 6)\n",
    "    \n",
    "    # Calculate the probability of having the specified number of winning numbers\n",
    "    prob = n_successful_outcomes / n_combinations_total\n",
    "    prob_percentage = prob * 100\n",
    "    \n",
    "    # Adjust the total combinations and print the results in a user-friendly format\n",
    "    adj_n_combinations = round(n_combinations_total / n_successful_outcomes)\n",
    "    print('''Your chances of having {} winning numbers with this ticket are {:.4f}%.\n",
    "In other words, you have a 1 in {:,} chance of winning.'''.format(n_winning_numbers, prob_percentage,\n",
    "                                                                  int(adj_n_combinations)))"
   ]
  },
  {
   "cell_type": "markdown",
   "id": "9fb42080",
   "metadata": {},
   "source": [
    "Now, let's run a couple of tests for the `winning_prob_under_6` function."
   ]
  },
  {
   "cell_type": "code",
   "execution_count": 13,
   "id": "60b3a156",
   "metadata": {},
   "outputs": [
    {
     "name": "stdout",
     "output_type": "stream",
     "text": [
      "Your chances of having 2 winning numbers with this ticket are 13.2378%.\n",
      "In other words, you have a 1 in 8 chance of winning.\n",
      "------------------------\n",
      "Your chances of having 3 winning numbers with this ticket are 1.7650%.\n",
      "In other words, you have a 1 in 57 chance of winning.\n",
      "------------------------\n",
      "Your chances of having 4 winning numbers with this ticket are 0.0969%.\n",
      "In other words, you have a 1 in 1,032 chance of winning.\n",
      "------------------------\n",
      "Your chances of having 5 winning numbers with this ticket are 0.0018%.\n",
      "In other words, you have a 1 in 54,201 chance of winning.\n",
      "------------------------\n"
     ]
    }
   ],
   "source": [
    "# Iterate through the counts of winning numbers and calculate probabilities\n",
    "for t_input in [2, 3, 4, 5]:\n",
    "    winning_prob_under_6(t_input)\n",
    "    print('------------------------')"
   ]
  },
  {
   "cell_type": "markdown",
   "id": "152a5f4f",
   "metadata": {},
   "source": [
    "## 8. Conclusion"
   ]
  },
  {
   "cell_type": "markdown",
   "id": "9f88e9f5",
   "metadata": {},
   "source": [
    "In this project, a medical institute focused on preventing and treating gambling addictions planned to build a mobile app to help lottery addicts understand their chances of winning. The institute's engineering team would develop the app, but they needed us to create the core logic and calculate the probabilities.\n",
    "\n",
    "For the first version, they asked us to focus on the [6/49 lottery](https://en.wikipedia.org/wiki/Lotto_6/49) and develop functions to answer key questions. We also incorporated historical data from Canada's national 6/49 lottery, which included `3,665` drawings from `1982` to `2018`. Here are the functions we defined:\n",
    "- `factorial()` – calculates the factorial of a number `n`.\n",
    "- `combinations()` – calculates combinations (`n` choose `k`).\n",
    "- `single_ticket_prob()` – calculates the probability of winning the big prize with a single ticket.\n",
    "- `winning_numbers()` – extracts winning numbers from a dataset row.\n",
    "- `check_occurrence()` – checks how often user-provided numbers have won.\n",
    "- `multi_ticket_prob()` – calculates the probability of winning with one or more tickets.\n",
    "- `winning_prob_under_6()` – calculates the probability of matching exactly `2`, `3`, `4`, or `5` numbers.\n",
    "\n",
    "Furthermore, we tested the `single_ticket_prob` and `check_occurrence` functions using two different inputs for each, as well as conducted several tests for the `multi_ticket_prob` and `winning_prob_under_6` functions with multiple test inputs."
   ]
  }
 ],
 "metadata": {
  "kernelspec": {
   "display_name": "Python 3 (ipykernel)",
   "language": "python",
   "name": "python3"
  },
  "language_info": {
   "codemirror_mode": {
    "name": "ipython",
    "version": 3
   },
   "file_extension": ".py",
   "mimetype": "text/x-python",
   "name": "python",
   "nbconvert_exporter": "python",
   "pygments_lexer": "ipython3",
   "version": "3.11.5"
  }
 },
 "nbformat": 4,
 "nbformat_minor": 5
}
