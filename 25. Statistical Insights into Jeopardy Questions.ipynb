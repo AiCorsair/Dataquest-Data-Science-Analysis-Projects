{
 "cells": [
  {
   "cell_type": "markdown",
   "id": "d55d5c98",
   "metadata": {},
   "source": [
    "# Statistical Insights into Jeopardy Questions"
   ]
  },
  {
   "cell_type": "markdown",
   "id": "d09b7c0c",
   "metadata": {},
   "source": [
    "## 1. Introducing and Loading the Data"
   ]
  },
  {
   "cell_type": "markdown",
   "id": "0602c460",
   "metadata": {},
   "source": [
    "*Jeopardy* is a popular TV show in the US where participants answer questions to win money. It's been running for many years and has become a major force in popular culture. Imagine we want to compete on *Jeopardy* and are searching for any advantage to help us win. In this project, we'll work with a dataset of *Jeopardy* questions to identify patterns that could give us an edge.\n",
    "\n",
    "The dataset, named `jeopardy.csv`, contains `19,999` rows from the start of a full *Jeopardy* question dataset, which can be downloaded [here](https://www.reddit.com/r/datasets/comments/1uyd0t/200000_jeopardy_questions_in_a_json_file/). Each row represents a single question from a specific episode of *Jeopardy*. Below are explanations of each column:\n",
    "\n",
    "- `Show Number` – the episode number of *Jeopardy*. \n",
    "- `Air Date` – the date the episode aired.\n",
    "- `Round` – the round of *Jeopardy*.   \n",
    "- `Category` – the category of the question.   \n",
    "- `Value` – the dollar amount the correct answer is worth. \n",
    "- `Question` – the text of the question.\n",
    "- `Answer` – the text of the answer.\n",
    "\n",
    "To begin, let's import the necessary libraries and load the dataset."
   ]
  },
  {
   "cell_type": "code",
   "execution_count": 1,
   "id": "cbb06b44",
   "metadata": {},
   "outputs": [
    {
     "data": {
      "text/html": [
       "<div>\n",
       "<style scoped>\n",
       "    .dataframe tbody tr th:only-of-type {\n",
       "        vertical-align: middle;\n",
       "    }\n",
       "\n",
       "    .dataframe tbody tr th {\n",
       "        vertical-align: top;\n",
       "    }\n",
       "\n",
       "    .dataframe thead th {\n",
       "        text-align: right;\n",
       "    }\n",
       "</style>\n",
       "<table border=\"1\" class=\"dataframe\">\n",
       "  <thead>\n",
       "    <tr style=\"text-align: right;\">\n",
       "      <th></th>\n",
       "      <th>Show Number</th>\n",
       "      <th>Air Date</th>\n",
       "      <th>Round</th>\n",
       "      <th>Category</th>\n",
       "      <th>Value</th>\n",
       "      <th>Question</th>\n",
       "      <th>Answer</th>\n",
       "    </tr>\n",
       "  </thead>\n",
       "  <tbody>\n",
       "    <tr>\n",
       "      <th>0</th>\n",
       "      <td>4680</td>\n",
       "      <td>2004-12-31</td>\n",
       "      <td>Jeopardy!</td>\n",
       "      <td>HISTORY</td>\n",
       "      <td>$200</td>\n",
       "      <td>For the last 8 years of his life, Galileo was ...</td>\n",
       "      <td>Copernicus</td>\n",
       "    </tr>\n",
       "    <tr>\n",
       "      <th>1</th>\n",
       "      <td>4680</td>\n",
       "      <td>2004-12-31</td>\n",
       "      <td>Jeopardy!</td>\n",
       "      <td>ESPN's TOP 10 ALL-TIME ATHLETES</td>\n",
       "      <td>$200</td>\n",
       "      <td>No. 2: 1912 Olympian; football star at Carlisl...</td>\n",
       "      <td>Jim Thorpe</td>\n",
       "    </tr>\n",
       "    <tr>\n",
       "      <th>2</th>\n",
       "      <td>4680</td>\n",
       "      <td>2004-12-31</td>\n",
       "      <td>Jeopardy!</td>\n",
       "      <td>EVERYBODY TALKS ABOUT IT...</td>\n",
       "      <td>$200</td>\n",
       "      <td>The city of Yuma in this state has a record av...</td>\n",
       "      <td>Arizona</td>\n",
       "    </tr>\n",
       "    <tr>\n",
       "      <th>3</th>\n",
       "      <td>4680</td>\n",
       "      <td>2004-12-31</td>\n",
       "      <td>Jeopardy!</td>\n",
       "      <td>THE COMPANY LINE</td>\n",
       "      <td>$200</td>\n",
       "      <td>In 1963, live on \"The Art Linkletter Show\", th...</td>\n",
       "      <td>McDonald's</td>\n",
       "    </tr>\n",
       "    <tr>\n",
       "      <th>4</th>\n",
       "      <td>4680</td>\n",
       "      <td>2004-12-31</td>\n",
       "      <td>Jeopardy!</td>\n",
       "      <td>EPITAPHS &amp; TRIBUTES</td>\n",
       "      <td>$200</td>\n",
       "      <td>Signer of the Dec. of Indep., framer of the Co...</td>\n",
       "      <td>John Adams</td>\n",
       "    </tr>\n",
       "  </tbody>\n",
       "</table>\n",
       "</div>"
      ],
      "text/plain": [
       "   Show Number    Air Date      Round                         Category  Value  \\\n",
       "0         4680  2004-12-31  Jeopardy!                          HISTORY   $200   \n",
       "1         4680  2004-12-31  Jeopardy!  ESPN's TOP 10 ALL-TIME ATHLETES   $200   \n",
       "2         4680  2004-12-31  Jeopardy!      EVERYBODY TALKS ABOUT IT...   $200   \n",
       "3         4680  2004-12-31  Jeopardy!                 THE COMPANY LINE   $200   \n",
       "4         4680  2004-12-31  Jeopardy!              EPITAPHS & TRIBUTES   $200   \n",
       "\n",
       "                                            Question      Answer  \n",
       "0  For the last 8 years of his life, Galileo was ...  Copernicus  \n",
       "1  No. 2: 1912 Olympian; football star at Carlisl...  Jim Thorpe  \n",
       "2  The city of Yuma in this state has a record av...     Arizona  \n",
       "3  In 1963, live on \"The Art Linkletter Show\", th...  McDonald's  \n",
       "4  Signer of the Dec. of Indep., framer of the Co...  John Adams  "
      ]
     },
     "metadata": {},
     "output_type": "display_data"
    },
    {
     "name": "stdout",
     "output_type": "stream",
     "text": [
      "<class 'pandas.core.frame.DataFrame'>\n",
      "RangeIndex: 19999 entries, 0 to 19998\n",
      "Data columns (total 7 columns):\n",
      " #   Column       Non-Null Count  Dtype \n",
      "---  ------       --------------  ----- \n",
      " 0   Show Number  19999 non-null  int64 \n",
      " 1    Air Date    19999 non-null  object\n",
      " 2    Round       19999 non-null  object\n",
      " 3    Category    19999 non-null  object\n",
      " 4    Value       19663 non-null  object\n",
      " 5    Question    19999 non-null  object\n",
      " 6    Answer      19999 non-null  object\n",
      "dtypes: int64(1), object(6)\n",
      "memory usage: 1.1+ MB\n"
     ]
    }
   ],
   "source": [
    "# Import the relevant libraries\n",
    "from scipy.stats import chisquare\n",
    "from random import choice\n",
    "import pandas as pd\n",
    "import numpy as np\n",
    "import re\n",
    "\n",
    "# Load the Jeopardy dataset, and display the first few rows and information of the dataset\n",
    "jeopardy = pd.read_csv(\"Datasets/jeopardy.csv\")\n",
    "display(jeopardy.head())\n",
    "jeopardy.info()"
   ]
  },
  {
   "cell_type": "markdown",
   "id": "71f15200",
   "metadata": {},
   "source": [
    "The dataset contains `7` columns; the `Show Number` is an integer, while the rest of the columns are stored as objects. Also, there are some missing values in the `Value` column (`336` entries). Except for the first column, there are spaces at the beginning of the remaining column names, which need to be removed."
   ]
  },
  {
   "cell_type": "markdown",
   "id": "d2982f22",
   "metadata": {},
   "source": [
    "## 2. Renaming and Normalizing Columns"
   ]
  },
  {
   "cell_type": "markdown",
   "id": "47de65ec",
   "metadata": {},
   "source": [
    "Before we can start analyzing the *Jeopardy* questions, we need to normalize the `Question` and `Answer` columns. This involves converting words to lowercase and removing punctuation, so words like `Don't` and `don't` will not be treated as different when compared.\n",
    "\n",
    "For the `Value` column, we need to remove the dollar sign from the beginning of each value and convert the column from text to numeric. In addition, the `Air Date` column should be converted to a datetime format instead of a string.\n",
    "\n",
    "To get started, we'll first rename our columns to remove the leading spaces."
   ]
  },
  {
   "cell_type": "code",
   "execution_count": 2,
   "id": "77e05ef7",
   "metadata": {
    "scrolled": true
   },
   "outputs": [
    {
     "data": {
      "text/plain": [
       "Index(['Show Number', ' Air Date', ' Round', ' Category', ' Value',\n",
       "       ' Question', ' Answer'],\n",
       "      dtype='object')"
      ]
     },
     "execution_count": 2,
     "metadata": {},
     "output_type": "execute_result"
    }
   ],
   "source": [
    "# Display the column names before the change\n",
    "jeopardy.columns"
   ]
  },
  {
   "cell_type": "code",
   "execution_count": 3,
   "id": "f044824e",
   "metadata": {
    "scrolled": true
   },
   "outputs": [
    {
     "data": {
      "text/plain": [
       "Index(['Show Number', 'Air Date', 'Round', 'Category', 'Value', 'Question',\n",
       "       'Answer'],\n",
       "      dtype='object')"
      ]
     },
     "execution_count": 3,
     "metadata": {},
     "output_type": "execute_result"
    }
   ],
   "source": [
    "# Rename columns to remove leading spaces and display the updated column names\n",
    "jeopardy.columns = ['Show Number', 'Air Date', 'Round', 'Category', 'Value', 'Question', 'Answer']\n",
    "jeopardy.columns"
   ]
  },
  {
   "cell_type": "markdown",
   "id": "ad7de722",
   "metadata": {},
   "source": [
    "Next, we'll create two functions named `normalize_text` and `normalize_value` to help us transform the data. Before that, we'll drop all rows with missing values in the `Value` column, leaving us with `19,663` observations."
   ]
  },
  {
   "cell_type": "code",
   "execution_count": 4,
   "id": "d7f6dc5f",
   "metadata": {
    "scrolled": true
   },
   "outputs": [
    {
     "data": {
      "text/html": [
       "<div>\n",
       "<style scoped>\n",
       "    .dataframe tbody tr th:only-of-type {\n",
       "        vertical-align: middle;\n",
       "    }\n",
       "\n",
       "    .dataframe tbody tr th {\n",
       "        vertical-align: top;\n",
       "    }\n",
       "\n",
       "    .dataframe thead th {\n",
       "        text-align: right;\n",
       "    }\n",
       "</style>\n",
       "<table border=\"1\" class=\"dataframe\">\n",
       "  <thead>\n",
       "    <tr style=\"text-align: right;\">\n",
       "      <th></th>\n",
       "      <th>Show Number</th>\n",
       "      <th>Air Date</th>\n",
       "      <th>Round</th>\n",
       "      <th>Category</th>\n",
       "      <th>Value</th>\n",
       "      <th>Question</th>\n",
       "      <th>Answer</th>\n",
       "    </tr>\n",
       "  </thead>\n",
       "  <tbody>\n",
       "    <tr>\n",
       "      <th>0</th>\n",
       "      <td>4680</td>\n",
       "      <td>2004-12-31</td>\n",
       "      <td>Jeopardy!</td>\n",
       "      <td>HISTORY</td>\n",
       "      <td>200</td>\n",
       "      <td>for the last 8 years of his life galileo was u...</td>\n",
       "      <td>copernicus</td>\n",
       "    </tr>\n",
       "    <tr>\n",
       "      <th>1</th>\n",
       "      <td>4680</td>\n",
       "      <td>2004-12-31</td>\n",
       "      <td>Jeopardy!</td>\n",
       "      <td>ESPN's TOP 10 ALL-TIME ATHLETES</td>\n",
       "      <td>200</td>\n",
       "      <td>no 2 1912 olympian football star at carlisle i...</td>\n",
       "      <td>jim thorpe</td>\n",
       "    </tr>\n",
       "    <tr>\n",
       "      <th>2</th>\n",
       "      <td>4680</td>\n",
       "      <td>2004-12-31</td>\n",
       "      <td>Jeopardy!</td>\n",
       "      <td>EVERYBODY TALKS ABOUT IT...</td>\n",
       "      <td>200</td>\n",
       "      <td>the city of yuma in this state has a record av...</td>\n",
       "      <td>arizona</td>\n",
       "    </tr>\n",
       "    <tr>\n",
       "      <th>3</th>\n",
       "      <td>4680</td>\n",
       "      <td>2004-12-31</td>\n",
       "      <td>Jeopardy!</td>\n",
       "      <td>THE COMPANY LINE</td>\n",
       "      <td>200</td>\n",
       "      <td>in 1963 live on the art linkletter show this c...</td>\n",
       "      <td>mcdonalds</td>\n",
       "    </tr>\n",
       "    <tr>\n",
       "      <th>4</th>\n",
       "      <td>4680</td>\n",
       "      <td>2004-12-31</td>\n",
       "      <td>Jeopardy!</td>\n",
       "      <td>EPITAPHS &amp; TRIBUTES</td>\n",
       "      <td>200</td>\n",
       "      <td>signer of the dec of indep framer of the const...</td>\n",
       "      <td>john adams</td>\n",
       "    </tr>\n",
       "  </tbody>\n",
       "</table>\n",
       "</div>"
      ],
      "text/plain": [
       "   Show Number   Air Date      Round                         Category  Value  \\\n",
       "0         4680 2004-12-31  Jeopardy!                          HISTORY    200   \n",
       "1         4680 2004-12-31  Jeopardy!  ESPN's TOP 10 ALL-TIME ATHLETES    200   \n",
       "2         4680 2004-12-31  Jeopardy!      EVERYBODY TALKS ABOUT IT...    200   \n",
       "3         4680 2004-12-31  Jeopardy!                 THE COMPANY LINE    200   \n",
       "4         4680 2004-12-31  Jeopardy!              EPITAPHS & TRIBUTES    200   \n",
       "\n",
       "                                            Question      Answer  \n",
       "0  for the last 8 years of his life galileo was u...  copernicus  \n",
       "1  no 2 1912 olympian football star at carlisle i...  jim thorpe  \n",
       "2  the city of yuma in this state has a record av...     arizona  \n",
       "3  in 1963 live on the art linkletter show this c...   mcdonalds  \n",
       "4  signer of the dec of indep framer of the const...  john adams  "
      ]
     },
     "execution_count": 4,
     "metadata": {},
     "output_type": "execute_result"
    }
   ],
   "source": [
    "# Remove rows with missing values\n",
    "jeopardy.dropna(inplace=True)\n",
    "\n",
    "# Normalize text by converting to lowercase, removing punctuation, and extra spaces\n",
    "def normalize_text(text):\n",
    "    text = text.lower()\n",
    "    text = re.sub(\"[^A-Za-z0-9\\s]\", \"\", text)  # Remove non-alphanumeric characters\n",
    "    text = re.sub(\"\\s+\", \" \", text)            # Replace multiple spaces with a single space\n",
    "    return text\n",
    "\n",
    "# Remove non-numeric characters from values and convert to integer\n",
    "def normalize_value(text):\n",
    "    text = re.sub(\"[^0-9]\", \"\", text)\n",
    "    text = int(text)\n",
    "    return text\n",
    "\n",
    "# Apply normalization functions to the \"Question\", \"Answer\", and \"Value\" columns\n",
    "jeopardy[\"Question\"] = jeopardy[\"Question\"].apply(normalize_text)\n",
    "jeopardy[\"Answer\"] = jeopardy[\"Answer\"].apply(normalize_text)\n",
    "jeopardy[\"Value\"] = jeopardy[\"Value\"].astype(str).apply(normalize_value)\n",
    "\n",
    "# Convert 'Air Date' column to datetime format\n",
    "jeopardy[\"Air Date\"] = pd.to_datetime(jeopardy[\"Air Date\"])\n",
    "jeopardy.head()"
   ]
  },
  {
   "cell_type": "markdown",
   "id": "90e72989",
   "metadata": {},
   "source": [
    "As we see, the questions and answers have been normalized, with text in lowercase and punctuation removed, ensuring consistency for easier analysis and comparison. Also, the dollar sign has been removed from the beginning of each value."
   ]
  },
  {
   "cell_type": "markdown",
   "id": "401996a7",
   "metadata": {},
   "source": [
    "## 3. Determining Answer Presence in Questions"
   ]
  },
  {
   "cell_type": "markdown",
   "id": "82218471",
   "metadata": {},
   "source": [
    "To determine whether to study past questions or focus on general knowledge, it would be helpful to assess how often answers appear across questions, and how frequently questions are repeated.\n",
    "\n",
    "We can address the first inquiry by examining how many times words in answers also appear in questions, while the second inquiry can be explored by analyzing how often complex words in questions (with at least `6` characters) recur.\n",
    "\n",
    "Note that words such as `the` and `than` are commonly found in answers and questions, but they don't provide meaningful assistance in identifying the answer. Therefore, we will remove these words from the answers. For now, let's focus on the first inquiry."
   ]
  },
  {
   "cell_type": "code",
   "execution_count": 5,
   "id": "ae2b4279",
   "metadata": {},
   "outputs": [
    {
     "data": {
      "text/plain": [
       "0.0594"
      ]
     },
     "execution_count": 5,
     "metadata": {},
     "output_type": "execute_result"
    }
   ],
   "source": [
    "# Count the number of matches between the words in the answer and the question for each row\n",
    "def count_matches(row):\n",
    "    \n",
    "    # Split the answer and question into individual words\n",
    "    split_answer = row[\"Answer\"].split()\n",
    "    split_question = row[\"Question\"].split()\n",
    "    \n",
    "    # Remove common unhelpful words from the answer\n",
    "    for word in ['the', 'than']:\n",
    "        if word in split_answer:\n",
    "            split_answer.remove(word)\n",
    "    \n",
    "    # Count the number of words in the answer that match words in the question\n",
    "    match_count = 0\n",
    "    for word in split_answer:\n",
    "        if word in split_question:\n",
    "            match_count += 1\n",
    "            \n",
    "    # Return 0 if there are no valid words in the answer\n",
    "    if len(split_answer) == 0:\n",
    "        return 0\n",
    "    \n",
    "    # Return the proportion of matched words to total valid words in the answer\n",
    "    return match_count / len(split_answer)\n",
    "\n",
    "# Apply the function to each row, create a new column for the results,\n",
    "# and calculate and round the mean of the column to 4 decimal places\n",
    "jeopardy[\"Answer in Question\"] = jeopardy.apply(count_matches, axis=1)\n",
    "jeopardy[\"Answer in Question\"].mean().round(4)"
   ]
  },
  {
   "cell_type": "markdown",
   "id": "03d7cc60",
   "metadata": {},
   "source": [
    "On average, only about `5.94%` of an answer directly overlaps with its corresponding question. This isn't a significant number, indicating that we can't rely solely on hearing a question to determine the answer. Therefore, we'll need to find a more effective method for identifying the correct answer."
   ]
  },
  {
   "cell_type": "markdown",
   "id": "179ce12f",
   "metadata": {},
   "source": [
    "## 4. Evaluating Overlap Between New and Old Questions"
   ]
  },
  {
   "cell_type": "markdown",
   "id": "2a29ba30",
   "metadata": {},
   "source": [
    "Let’s say we want to investigate how often new questions are repeats of older ones. While we can’t fully answer this question since we only have about `10%` of the complete *Jeopardy* questions dataset, we can at least explore it.\n",
    "\n",
    "Focusing only on words with `6` or more characters will help us filter out common words like `the` and `than`, which do not provide much insight into the questions."
   ]
  },
  {
   "cell_type": "code",
   "execution_count": 6,
   "id": "2c0342a5",
   "metadata": {},
   "outputs": [
    {
     "data": {
      "text/plain": [
       "0.6843"
      ]
     },
     "execution_count": 6,
     "metadata": {},
     "output_type": "execute_result"
    }
   ],
   "source": [
    "# Initialize a list for overlap proportions and a set to track terms used\n",
    "overlap_proportions = []\n",
    "terms_used = set()\n",
    "\n",
    "# Sort the jeopardy DataFrame by \"Show Number\" and \"Air Date\"\n",
    "jeopardy = jeopardy.sort_values(by=[\"Show Number\", \"Air Date\"])\n",
    "\n",
    "# Iterate over each row in the dataset\n",
    "for i, row in jeopardy.iterrows():\n",
    "    \n",
    "    # Split the question into individual words and filter for words longer than 5 characters\n",
    "    split_question = row[\"Question\"].split(\" \")\n",
    "    split_question = [word for word in split_question if len(word) > 5]\n",
    "    \n",
    "    # Count how many of the words from the current question have been used in previous questions\n",
    "    match_count = 0\n",
    "    for word in split_question:\n",
    "        if word in terms_used:\n",
    "            match_count += 1\n",
    "    \n",
    "    # Add the words from the current question to the set of terms used\n",
    "    for word in split_question:\n",
    "        terms_used.add(word)\n",
    "    \n",
    "    # Calculate the proportion of matched words to total words in the question\n",
    "    if len(split_question) > 0:\n",
    "        match_count /= len(split_question)\n",
    "    overlap_proportions.append(match_count)\n",
    "\n",
    "# Add the question overlap values to the DataFrame and calculate the mean\n",
    "jeopardy[\"Question Overlap\"] = overlap_proportions\n",
    "jeopardy[\"Question Overlap\"].mean().round(4)"
   ]
  },
  {
   "cell_type": "markdown",
   "id": "9688ff8c",
   "metadata": {},
   "source": [
    "On average, there is approximately `68.43%` overlap between terms in new questions and those in old questions. This analysis only considers a small set of questions and focuses solely on individual terms, rather than phrases. While this makes the finding relatively insignificant, it suggests that further investigation into the recycling of questions may be worthwhile."
   ]
  },
  {
   "cell_type": "markdown",
   "id": "40227947",
   "metadata": {},
   "source": [
    "## 5. Assessing Term Frequencies by Question Value"
   ]
  },
  {
   "cell_type": "markdown",
   "id": "926ea086",
   "metadata": {},
   "source": [
    "Let's say we want to mainly focus on studying high-value questions, which can help us earn more money when we're on *Jeopardy*. We can determine which terms correspond to high-value questions using a **chi-squared** test. However, we first need to categorize the questions into two groups:\n",
    "- `High value` – Any row where the `Value` is greater than `800` (a bit above the mean of `748.34`).\n",
    "- `Low value` – Any row where the `Value` is less than `800`.  \n",
    "\n",
    "To identify the words with the most significant differences in usage between high- and low-value questions, we can select the words with the highest associated chi-squared values. Analyzing all the words would be time-consuming, so we'll focus on a small sample for now."
   ]
  },
  {
   "cell_type": "code",
   "execution_count": 7,
   "id": "0b2c8472",
   "metadata": {},
   "outputs": [],
   "source": [
    "# Classify whether the question value is high (1) or low (0)\n",
    "def classify_value(row):\n",
    "    value = 0\n",
    "    if row[\"Value\"] > 800:\n",
    "        value = 1\n",
    "    return value\n",
    "\n",
    "# Apply the classification to each row and create a new \"High Value\" column\n",
    "jeopardy[\"High Value\"] = jeopardy.apply(classify_value, axis=1)"
   ]
  },
  {
   "cell_type": "markdown",
   "id": "fb6231ce",
   "metadata": {},
   "source": [
    "Next, we’ll determine the frequency of specific terms in high and low value questions by selecting a random sample and comparing the results."
   ]
  },
  {
   "cell_type": "code",
   "execution_count": 8,
   "id": "6953745f",
   "metadata": {
    "scrolled": true
   },
   "outputs": [
    {
     "data": {
      "text/html": [
       "<div>\n",
       "<style scoped>\n",
       "    .dataframe tbody tr th:only-of-type {\n",
       "        vertical-align: middle;\n",
       "    }\n",
       "\n",
       "    .dataframe tbody tr th {\n",
       "        vertical-align: top;\n",
       "    }\n",
       "\n",
       "    .dataframe thead th {\n",
       "        text-align: right;\n",
       "    }\n",
       "</style>\n",
       "<table border=\"1\" class=\"dataframe\">\n",
       "  <thead>\n",
       "    <tr style=\"text-align: right;\">\n",
       "      <th></th>\n",
       "      <th>High Value Count</th>\n",
       "      <th>Low Value Count</th>\n",
       "    </tr>\n",
       "  </thead>\n",
       "  <tbody>\n",
       "    <tr>\n",
       "      <th>0</th>\n",
       "      <td>0</td>\n",
       "      <td>1</td>\n",
       "    </tr>\n",
       "    <tr>\n",
       "      <th>1</th>\n",
       "      <td>0</td>\n",
       "      <td>1</td>\n",
       "    </tr>\n",
       "    <tr>\n",
       "      <th>2</th>\n",
       "      <td>0</td>\n",
       "      <td>3</td>\n",
       "    </tr>\n",
       "    <tr>\n",
       "      <th>3</th>\n",
       "      <td>1</td>\n",
       "      <td>0</td>\n",
       "    </tr>\n",
       "    <tr>\n",
       "      <th>4</th>\n",
       "      <td>1</td>\n",
       "      <td>0</td>\n",
       "    </tr>\n",
       "    <tr>\n",
       "      <th>5</th>\n",
       "      <td>1</td>\n",
       "      <td>0</td>\n",
       "    </tr>\n",
       "    <tr>\n",
       "      <th>6</th>\n",
       "      <td>1</td>\n",
       "      <td>0</td>\n",
       "    </tr>\n",
       "    <tr>\n",
       "      <th>7</th>\n",
       "      <td>0</td>\n",
       "      <td>1</td>\n",
       "    </tr>\n",
       "    <tr>\n",
       "      <th>8</th>\n",
       "      <td>1</td>\n",
       "      <td>0</td>\n",
       "    </tr>\n",
       "    <tr>\n",
       "      <th>9</th>\n",
       "      <td>0</td>\n",
       "      <td>1</td>\n",
       "    </tr>\n",
       "  </tbody>\n",
       "</table>\n",
       "</div>"
      ],
      "text/plain": [
       "   High Value Count  Low Value Count\n",
       "0                 0                1\n",
       "1                 0                1\n",
       "2                 0                3\n",
       "3                 1                0\n",
       "4                 1                0\n",
       "5                 1                0\n",
       "6                 1                0\n",
       "7                 0                1\n",
       "8                 1                0\n",
       "9                 0                1"
      ]
     },
     "execution_count": 8,
     "metadata": {},
     "output_type": "execute_result"
    }
   ],
   "source": [
    "# Count the number of times a term appears in high and low value questions\n",
    "def count_usage(term):\n",
    "    \n",
    "    # Initialize counts for low and high value questions\n",
    "    low_count = 0\n",
    "    high_count = 0\n",
    "    \n",
    "    # Iterate over each row to check if the term is present in the question\n",
    "    for i, row in jeopardy.iterrows():\n",
    "        if term in row[\"Question\"].split(\" \"):\n",
    "            \n",
    "            # Increment the appropriate count based on whether the question is high or low value\n",
    "            if row[\"High Value\"] == 1:\n",
    "                high_count += 1\n",
    "            else:\n",
    "                low_count += 1\n",
    "                \n",
    "    # Return the counts of the term occurrence in high and low value questions\n",
    "    return high_count, low_count\n",
    "\n",
    "\n",
    "# Select 10 random terms from the list of terms used\n",
    "terms_used_list = list(terms_used)\n",
    "comparison_terms = [choice(terms_used_list) for i in range(10)]\n",
    "\n",
    "# Count the occurrences of each selected term in high and low value questions\n",
    "term_frequencies = []\n",
    "for term in comparison_terms:\n",
    "    term_frequencies.append(count_usage(term))\n",
    "\n",
    "# Convert term frequencies into a DataFrame with specified column names\n",
    "term_freq_df = pd.DataFrame(term_frequencies, columns=[\"High Value Count\", \"Low Value Count\"])\n",
    "term_freq_df"
   ]
  },
  {
   "cell_type": "markdown",
   "id": "9b2f7c9c",
   "metadata": {},
   "source": [
    "Out of the `10` randomly selected terms, `50%` appear exclusively in low-value questions, while the other half are found in high-value questions. However, we cannot fully conclude that certain terms are more closely associated with either low- or high-value questions."
   ]
  },
  {
   "cell_type": "markdown",
   "id": "6bab8c91",
   "metadata": {},
   "source": [
    "## 6. Running the Chi-Squared Test"
   ]
  },
  {
   "cell_type": "markdown",
   "id": "b3e6bee8",
   "metadata": {},
   "source": [
    "Now that we've found the frequencies of `10` different terms in high and low-value questions, we can compute the expected counts for these terms and their respective chi-squared statistics."
   ]
  },
  {
   "cell_type": "code",
   "execution_count": 9,
   "id": "07b24d37",
   "metadata": {
    "scrolled": false
   },
   "outputs": [
    {
     "data": {
      "text/plain": [
       "[Power_divergenceResult(statistic=0.41165912843707375, pvalue=0.5211285963246591),\n",
       " Power_divergenceResult(statistic=0.41165912843707375, pvalue=0.5211285963246591),\n",
       " Power_divergenceResult(statistic=1.234977385311221, pvalue=0.26644123439963835),\n",
       " Power_divergenceResult(statistic=2.429194279734914, pvalue=0.11909409782120144),\n",
       " Power_divergenceResult(statistic=2.429194279734914, pvalue=0.11909409782120144),\n",
       " Power_divergenceResult(statistic=2.429194279734914, pvalue=0.11909409782120144),\n",
       " Power_divergenceResult(statistic=2.429194279734914, pvalue=0.11909409782120144),\n",
       " Power_divergenceResult(statistic=0.41165912843707375, pvalue=0.5211285963246591),\n",
       " Power_divergenceResult(statistic=2.429194279734914, pvalue=0.11909409782120144),\n",
       " Power_divergenceResult(statistic=0.41165912843707375, pvalue=0.5211285963246591)]"
      ]
     },
     "execution_count": 9,
     "metadata": {},
     "output_type": "execute_result"
    }
   ],
   "source": [
    "# Count the number of high and low value questions\n",
    "high_val_questions = jeopardy[jeopardy[\"High Value\"] == 1].shape[0]\n",
    "low_val_questions = jeopardy[jeopardy[\"High Value\"] == 0].shape[0]\n",
    "chi_squared = []\n",
    "\n",
    "# Iterate through the term frequencies\n",
    "for observed in term_frequencies:\n",
    "    \n",
    "    # Calculate the total frequency and proportion of the term relative to all questions\n",
    "    total = sum(observed)\n",
    "    total_prop = total / jeopardy.shape[0]\n",
    "    \n",
    "    # Compute expected counts based on the total proportion\n",
    "    high_value_exp = total_prop * high_val_questions\n",
    "    low_value_exp = total_prop * low_val_questions\n",
    "    \n",
    "    # Create arrays for observed and expected frequencies, \n",
    "    # and append the chi-squared result for the current term\n",
    "    observed = np.array([observed[0], observed[1]])\n",
    "    expected = np.array([high_value_exp, low_value_exp])\n",
    "    chi_squared.append(chisquare(observed, expected))\n",
    "\n",
    "# Display the chi-squared values\n",
    "chi_squared"
   ]
  },
  {
   "cell_type": "markdown",
   "id": "fe472607",
   "metadata": {},
   "source": [
    "None of the terms show a significant difference in usage between high-value and low-value questions, with the lowest p-value being `0.119`. Additionally, the frequencies of the randomly selected terms were no more than `3`, which diminishes the validity of the chi-squared test. It would be more meaningful to conduct the chi-squared test using only terms with higher frequencies."
   ]
  },
  {
   "cell_type": "markdown",
   "id": "08c19357",
   "metadata": {},
   "source": [
    "## 7. Conclusion"
   ]
  },
  {
   "cell_type": "markdown",
   "id": "aaa46609",
   "metadata": {},
   "source": [
    "In this project, we analyzed a dataset of *Jeopardy* questions to explore any potential strategies for winning. The dataset originally contained `19,999` rows, where each row represented a single question from a specific episode of *Jeopardy*. It included `7` columns, with the `Show Number` as an integer and the rest stored as objects.\n",
    "\n",
    "We began by renaming the columns to remove leading spaces, then dropped rows with missing values, reducing the dataset to `19,663` observations. To ensure consistency, we normalized the text in the questions and answers by converting everything to lowercase and removing punctuation. Additionally, we stripped the dollar sign from the values for easier analysis.\n",
    "\n",
    "To determine whether studying past questions or focusing on general knowledge would be beneficial, we analyzed how often answers appear across questions, and how frequently questions are reused. We first examined the overlap between answers and questions by identifying how often words from answers also appear in the corresponding questions. Then, we explored the recurrence of complex words (`6+` characters) in questions to assess repetition.\n",
    "\n",
    "On average, only `5.94%` of an answer directly overlaps with its corresponding question, suggesting it's not possible to predict answers just from hearing the question. In addition, around `68.43%` of terms in new questions overlap with older ones, though this analysis was limited to a small sample and focused on single words rather than entire phrases. Despite its limitations, this suggests that further exploration into question recycling could be useful.\n",
    "\n",
    "Before confirming which terms correspond to high-value questions using a chi-squared test, we first categorized the questions into high-value and low-value groups. We analyzed the frequency of specific terms in both categories by selecting a random sample and comparing the results. Of the `10` randomly chosen terms, `50%` appeared only in low-value questions, while the other half were found in high-value questions.\n",
    "\n",
    "We then calculated the expected counts for these `10` terms and their chi-squared statistics. None of the terms showed a significant difference in usage between high- and low-value questions, with the lowest p-value being `0.119`. Additionally, because the frequencies of the selected terms did not exceed `3`, the chi-squared test's validity was diminished. A more meaningful analysis would involve applying the chi-squared test to terms with higher occurrences."
   ]
  }
 ],
 "metadata": {
  "kernelspec": {
   "display_name": "Python 3 (ipykernel)",
   "language": "python",
   "name": "python3"
  },
  "language_info": {
   "codemirror_mode": {
    "name": "ipython",
    "version": 3
   },
   "file_extension": ".py",
   "mimetype": "text/x-python",
   "name": "python",
   "nbconvert_exporter": "python",
   "pygments_lexer": "ipython3",
   "version": "3.11.5"
  }
 },
 "nbformat": 4,
 "nbformat_minor": 5
}
